{
  "nbformat": 4,
  "nbformat_minor": 0,
  "metadata": {
    "colab": {
      "provenance": []
    },
    "kernelspec": {
      "name": "python3",
      "display_name": "Python 3"
    },
    "language_info": {
      "name": "python"
    }
  },
  "cells": [
    {
      "cell_type": "code",
      "execution_count": null,
      "metadata": {
        "id": "wKIvNLNCoGEv"
      },
      "outputs": [],
      "source": [
        "from google.colab import files\n",
        "import zipfile\n",
        "import os\n",
        "import pandas as pd\n",
        "import glob\n",
        "import shutil\n",
        "\n",
        "def combine_csv_from_zip(zip_filename,\n",
        "                         extract_folder='unzipped_folder',\n",
        "                         output_filename='combined_embeddings.csv',\n",
        "                         taxa_map=None):\n",
        "    \"\"\"\n",
        "    Upload a zip file containing CSVs, extract, combine them vertically with taxa annotations, and download the result.\n",
        "\n",
        "    Args:\n",
        "        zip_filename (str): Name of the uploaded zip file (e.g., 'DMC1_CLS_Embeddings.zip').\n",
        "        extract_folder (str): Folder to extract the zip into (default: 'unzipped_folder').\n",
        "        output_filename (str): Name of the combined CSV file to save and download (default: 'combined_embeddings.csv').\n",
        "        taxa_map (dict): A mapping of filename substrings to taxa values.\n",
        "                         Example: {'cleaned_DMC1_A_CLS_embeddings': 'arthropods', ...}\n",
        "    \"\"\"\n",
        "\n",
        "    # Default taxa_map if not provided\n",
        "    if taxa_map is None:\n",
        "        taxa_map = {\n",
        "            'cleaned_DMC1_A_CLS_embeddings': 'arthropods',\n",
        "            'cleaned_DMC1_C_CLS_embeddings': 'chordates',\n",
        "            'cleaned_DMC1_NOTCA_CLS_embeddings': 'other animals',\n",
        "            'cleaned_DMC1_fungi_CLS_embeddings': 'fungi',\n",
        "            'cleaned_DMC1_plant_CLS_embeddings': 'plants'\n",
        "        }\n",
        "\n",
        "    # Clean up previous extract folder if exists\n",
        "    if os.path.exists(extract_folder):\n",
        "        shutil.rmtree(extract_folder)\n",
        "\n",
        "    # Unzip\n",
        "    with zipfile.ZipFile(zip_filename, 'r') as zip_ref:\n",
        "        zip_ref.extractall(extract_folder)\n",
        "\n",
        "    # Get the top-level folder (should match the ZIP)\n",
        "    extracted_subfolders = os.listdir(extract_folder)\n",
        "    extracted_subfolders = [f for f in extracted_subfolders if os.path.isdir(os.path.join(extract_folder, f))]\n",
        "\n",
        "    if len(extracted_subfolders) != 1:\n",
        "        print(f\"⚠️ Warning: Multiple folders found in '{extract_folder}': {extracted_subfolders}\")\n",
        "        # Attempt to guess based on zip_filename\n",
        "        folder_guess = os.path.splitext(zip_filename)[0]\n",
        "        if folder_guess in extracted_subfolders:\n",
        "            subfolder_path = os.path.join(extract_folder, folder_guess)\n",
        "        else:\n",
        "            subfolder_path = os.path.join(extract_folder, extracted_subfolders[0])\n",
        "    else:\n",
        "        subfolder_path = os.path.join(extract_folder, extracted_subfolders[0])\n",
        "\n",
        "    print(f\"📂 Extracted folder: {subfolder_path}\")\n",
        "\n",
        "    # Find all CSVs\n",
        "    csv_files = glob.glob(os.path.join(subfolder_path, '*.csv'))\n",
        "    print(f\"🔍 Found {len(csv_files)} CSV files.\")\n",
        "\n",
        "    # Combine CSVs with taxa\n",
        "    dfs = []\n",
        "    for file in csv_files:\n",
        "        df = pd.read_csv(file)\n",
        "\n",
        "        # Infer taxa from filename\n",
        "        base_name = os.path.basename(file)\n",
        "        matched_taxa = None\n",
        "        for key, value in taxa_map.items():\n",
        "            if key in base_name:\n",
        "                matched_taxa = value\n",
        "                break\n",
        "\n",
        "        if matched_taxa is None:\n",
        "            print(f\"⚠️ Warning: Could not match taxa for file '{base_name}'. Defaulting to 'unknown'.\")\n",
        "            matched_taxa = 'unknown'\n",
        "\n",
        "        df['taxa'] = matched_taxa\n",
        "        dfs.append(df)\n",
        "\n",
        "    combined_df = pd.concat(dfs, axis=0, ignore_index=True)\n",
        "\n",
        "    print(f\"✅ Combined shape: {combined_df.shape}\")\n",
        "    print(combined_df['taxa'].value_counts())\n",
        "\n",
        "    # Save and download\n",
        "    combined_df.to_csv(output_filename, index=False)\n",
        "    files.download(output_filename)\n",
        "\n",
        "    return combined_df\n"
      ]
    },
    {
      "cell_type": "code",
      "source": [
        "# uploaded=files.upload() SPO11_AA_Features.zip"
      ],
      "metadata": {
        "id": "Xn6Xe8_IE0PS"
      },
      "execution_count": null,
      "outputs": []
    },
    {
      "cell_type": "code",
      "source": [
        "\"\"\"\n",
        "taxa_map = {\n",
        "            'cleaned_SPO11_A_full_features': 'arthropods',\n",
        "            'cleaned_SPO11_C_full_features': 'chordates',\n",
        "            'cleaned_SPO11_NOTCA_full_features': 'other animals',\n",
        "            'cleaned_SPO11_fungi_full_features': 'fungi',\n",
        "            'cleaned_SPO11_plant_full_features': 'plants'\n",
        "        }\n",
        "combine_csv_from_zip(zip_filename=\"SPO11_AA_Features.zip\",\n",
        "                         output_filename='SPO11_combined_features.csv',\n",
        "                         taxa_map=taxa_map)\n",
        "\"\"\""
      ],
      "metadata": {
        "colab": {
          "base_uri": "https://localhost:8080/",
          "height": 72
        },
        "id": "IRFvvuPOEjXB",
        "outputId": "59b87543-552b-452b-8660-adf8cb713d77"
      },
      "execution_count": null,
      "outputs": [
        {
          "output_type": "execute_result",
          "data": {
            "text/plain": [
              "'\\ntaxa_map = {\\n            \\'cleaned_SPO11_A_full_features\\': \\'arthropods\\',\\n            \\'cleaned_SPO11_C_full_features\\': \\'chordates\\',\\n            \\'cleaned_SPO11_NOTCA_full_features\\': \\'other animals\\',\\n            \\'cleaned_SPO11_fungi_full_features\\': \\'fungi\\',\\n            \\'cleaned_SPO11_plant_full_features\\': \\'plants\\'\\n        }\\ncombine_csv_from_zip(zip_filename=\"SPO11_AA_Features.zip\",  \\n                         output_filename=\\'SPO11_combined_features.csv\\',\\n                         taxa_map=taxa_map)\\n'"
            ],
            "application/vnd.google.colaboratory.intrinsic+json": {
              "type": "string"
            }
          },
          "metadata": {},
          "execution_count": 232
        }
      ]
    },
    {
      "cell_type": "code",
      "source": [
        "uploaded = files.upload()\n",
        "def add_taxa_to_non_meiosis(input_file='non-meiosis_combined_aa_features.csv', output_file='non-meiosis_combined_aa_features_with_taxa.csv'):\n",
        "    \"\"\"\n",
        "    Add a 'taxa' column with the value 'non-meiosis sources' to the non-meiosis embeddings file.\n",
        "    \"\"\"\n",
        "    df = pd.read_csv(input_file)\n",
        "    df['taxa'] = 'non-meiosis sources'\n",
        "    df.to_csv(output_file, index=False)\n",
        "    print(f\"✅ Added 'taxa' column to {input_file}, saved as {output_file}.\")\n",
        "    return df\n",
        "\n",
        "# Example usage:\n",
        "non_meiosis_df = add_taxa_to_non_meiosis()"
      ],
      "metadata": {
        "colab": {
          "base_uri": "https://localhost:8080/",
          "height": 56
        },
        "id": "NR3mfdoysF68",
        "outputId": "2c85c998-f6d9-4a1f-b695-221da6eaee99"
      },
      "execution_count": null,
      "outputs": [
        {
          "output_type": "display_data",
          "data": {
            "text/plain": [
              "<IPython.core.display.HTML object>"
            ],
            "text/html": [
              "\n",
              "     <input type=\"file\" id=\"files-1eb00da5-b609-4e2a-bbd6-214088d1b1a5\" name=\"files[]\" multiple disabled\n",
              "        style=\"border:none\" />\n",
              "     <output id=\"result-1eb00da5-b609-4e2a-bbd6-214088d1b1a5\">\n",
              "      Upload widget is only available when the cell has been executed in the\n",
              "      current browser session. Please rerun this cell to enable.\n",
              "      </output>\n",
              "      <script>// Copyright 2017 Google LLC\n",
              "//\n",
              "// Licensed under the Apache License, Version 2.0 (the \"License\");\n",
              "// you may not use this file except in compliance with the License.\n",
              "// You may obtain a copy of the License at\n",
              "//\n",
              "//      http://www.apache.org/licenses/LICENSE-2.0\n",
              "//\n",
              "// Unless required by applicable law or agreed to in writing, software\n",
              "// distributed under the License is distributed on an \"AS IS\" BASIS,\n",
              "// WITHOUT WARRANTIES OR CONDITIONS OF ANY KIND, either express or implied.\n",
              "// See the License for the specific language governing permissions and\n",
              "// limitations under the License.\n",
              "\n",
              "/**\n",
              " * @fileoverview Helpers for google.colab Python module.\n",
              " */\n",
              "(function(scope) {\n",
              "function span(text, styleAttributes = {}) {\n",
              "  const element = document.createElement('span');\n",
              "  element.textContent = text;\n",
              "  for (const key of Object.keys(styleAttributes)) {\n",
              "    element.style[key] = styleAttributes[key];\n",
              "  }\n",
              "  return element;\n",
              "}\n",
              "\n",
              "// Max number of bytes which will be uploaded at a time.\n",
              "const MAX_PAYLOAD_SIZE = 100 * 1024;\n",
              "\n",
              "function _uploadFiles(inputId, outputId) {\n",
              "  const steps = uploadFilesStep(inputId, outputId);\n",
              "  const outputElement = document.getElementById(outputId);\n",
              "  // Cache steps on the outputElement to make it available for the next call\n",
              "  // to uploadFilesContinue from Python.\n",
              "  outputElement.steps = steps;\n",
              "\n",
              "  return _uploadFilesContinue(outputId);\n",
              "}\n",
              "\n",
              "// This is roughly an async generator (not supported in the browser yet),\n",
              "// where there are multiple asynchronous steps and the Python side is going\n",
              "// to poll for completion of each step.\n",
              "// This uses a Promise to block the python side on completion of each step,\n",
              "// then passes the result of the previous step as the input to the next step.\n",
              "function _uploadFilesContinue(outputId) {\n",
              "  const outputElement = document.getElementById(outputId);\n",
              "  const steps = outputElement.steps;\n",
              "\n",
              "  const next = steps.next(outputElement.lastPromiseValue);\n",
              "  return Promise.resolve(next.value.promise).then((value) => {\n",
              "    // Cache the last promise value to make it available to the next\n",
              "    // step of the generator.\n",
              "    outputElement.lastPromiseValue = value;\n",
              "    return next.value.response;\n",
              "  });\n",
              "}\n",
              "\n",
              "/**\n",
              " * Generator function which is called between each async step of the upload\n",
              " * process.\n",
              " * @param {string} inputId Element ID of the input file picker element.\n",
              " * @param {string} outputId Element ID of the output display.\n",
              " * @return {!Iterable<!Object>} Iterable of next steps.\n",
              " */\n",
              "function* uploadFilesStep(inputId, outputId) {\n",
              "  const inputElement = document.getElementById(inputId);\n",
              "  inputElement.disabled = false;\n",
              "\n",
              "  const outputElement = document.getElementById(outputId);\n",
              "  outputElement.innerHTML = '';\n",
              "\n",
              "  const pickedPromise = new Promise((resolve) => {\n",
              "    inputElement.addEventListener('change', (e) => {\n",
              "      resolve(e.target.files);\n",
              "    });\n",
              "  });\n",
              "\n",
              "  const cancel = document.createElement('button');\n",
              "  inputElement.parentElement.appendChild(cancel);\n",
              "  cancel.textContent = 'Cancel upload';\n",
              "  const cancelPromise = new Promise((resolve) => {\n",
              "    cancel.onclick = () => {\n",
              "      resolve(null);\n",
              "    };\n",
              "  });\n",
              "\n",
              "  // Wait for the user to pick the files.\n",
              "  const files = yield {\n",
              "    promise: Promise.race([pickedPromise, cancelPromise]),\n",
              "    response: {\n",
              "      action: 'starting',\n",
              "    }\n",
              "  };\n",
              "\n",
              "  cancel.remove();\n",
              "\n",
              "  // Disable the input element since further picks are not allowed.\n",
              "  inputElement.disabled = true;\n",
              "\n",
              "  if (!files) {\n",
              "    return {\n",
              "      response: {\n",
              "        action: 'complete',\n",
              "      }\n",
              "    };\n",
              "  }\n",
              "\n",
              "  for (const file of files) {\n",
              "    const li = document.createElement('li');\n",
              "    li.append(span(file.name, {fontWeight: 'bold'}));\n",
              "    li.append(span(\n",
              "        `(${file.type || 'n/a'}) - ${file.size} bytes, ` +\n",
              "        `last modified: ${\n",
              "            file.lastModifiedDate ? file.lastModifiedDate.toLocaleDateString() :\n",
              "                                    'n/a'} - `));\n",
              "    const percent = span('0% done');\n",
              "    li.appendChild(percent);\n",
              "\n",
              "    outputElement.appendChild(li);\n",
              "\n",
              "    const fileDataPromise = new Promise((resolve) => {\n",
              "      const reader = new FileReader();\n",
              "      reader.onload = (e) => {\n",
              "        resolve(e.target.result);\n",
              "      };\n",
              "      reader.readAsArrayBuffer(file);\n",
              "    });\n",
              "    // Wait for the data to be ready.\n",
              "    let fileData = yield {\n",
              "      promise: fileDataPromise,\n",
              "      response: {\n",
              "        action: 'continue',\n",
              "      }\n",
              "    };\n",
              "\n",
              "    // Use a chunked sending to avoid message size limits. See b/62115660.\n",
              "    let position = 0;\n",
              "    do {\n",
              "      const length = Math.min(fileData.byteLength - position, MAX_PAYLOAD_SIZE);\n",
              "      const chunk = new Uint8Array(fileData, position, length);\n",
              "      position += length;\n",
              "\n",
              "      const base64 = btoa(String.fromCharCode.apply(null, chunk));\n",
              "      yield {\n",
              "        response: {\n",
              "          action: 'append',\n",
              "          file: file.name,\n",
              "          data: base64,\n",
              "        },\n",
              "      };\n",
              "\n",
              "      let percentDone = fileData.byteLength === 0 ?\n",
              "          100 :\n",
              "          Math.round((position / fileData.byteLength) * 100);\n",
              "      percent.textContent = `${percentDone}% done`;\n",
              "\n",
              "    } while (position < fileData.byteLength);\n",
              "  }\n",
              "\n",
              "  // All done.\n",
              "  yield {\n",
              "    response: {\n",
              "      action: 'complete',\n",
              "    }\n",
              "  };\n",
              "}\n",
              "\n",
              "scope.google = scope.google || {};\n",
              "scope.google.colab = scope.google.colab || {};\n",
              "scope.google.colab._files = {\n",
              "  _uploadFiles,\n",
              "  _uploadFilesContinue,\n",
              "};\n",
              "})(self);\n",
              "</script> "
            ]
          },
          "metadata": {}
        },
        {
          "output_type": "stream",
          "name": "stdout",
          "text": [
            "✅ Added 'taxa' column to non-meiosis_combined_aa_features.csv, saved as non-meiosis_combined_aa_features_with_taxa.csv.\n"
          ]
        }
      ]
    },
    {
      "cell_type": "code",
      "source": [
        "def combine_embeddings(meiosis_csv, non_meiosis_csv, output_csv, label_meiosis=1, label_non_meiosis=0):\n",
        "    \"\"\"\n",
        "    Combines a meiosis CSV file (e.g., SPO11) and a non-meiosis CSV file, adds labels, and saves as a new CSV.\n",
        "\n",
        "    Parameters:\n",
        "    - meiosis_csv: Path to meiosis CSV file (e.g., SPO11_combined_cls_embeddings.csv).\n",
        "    - non_meiosis_csv: Path to non-meiosis CSV file (e.g., non-meiosis_combined_cls_embeddings.csv).\n",
        "    - output_csv: Path to save combined CSV file.\n",
        "    - label_meiosis: Label for meiosis proteins (default 1).\n",
        "    - label_non_meiosis: Label for non-meiosis proteins (default 0).\n",
        "    \"\"\"\n",
        "\n",
        "    # Load CSVs\n",
        "    meiosis_df = pd.read_csv(meiosis_csv)\n",
        "    non_meiosis_df = pd.read_csv(non_meiosis_csv)\n",
        "\n",
        "    # Add labels\n",
        "    meiosis_df['label'] = label_meiosis\n",
        "    non_meiosis_df['label'] = label_non_meiosis\n",
        "\n",
        "    # Combine the dataframes\n",
        "    combined_df = pd.concat([meiosis_df, non_meiosis_df], axis=0, ignore_index=True)\n",
        "\n",
        "    # Check combined shape and class distribution\n",
        "    print(f\"✅ Combined shape: {combined_df.shape}\")\n",
        "    print(\"Class distribution:\\n\", combined_df['label'].value_counts())\n",
        "\n",
        "    # Save combined CSV\n",
        "    combined_df.to_csv(output_csv, index=False)\n",
        "    print(f\"✅ Combined CSV saved as: {output_csv}\")"
      ],
      "metadata": {
        "id": "zwH1eb2vqx8D"
      },
      "execution_count": null,
      "outputs": []
    },
    {
      "cell_type": "code",
      "source": [
        "# combine_embeddings(\"SPO11_combined_features.csv\",'non-meiosis_combined_aa_features_with_taxa.csv','non-meiosis_spo11_combined_aa_features_with_taxa.csv')"
      ],
      "metadata": {
        "id": "A2LZLFbusfdz"
      },
      "execution_count": null,
      "outputs": []
    },
    {
      "cell_type": "code",
      "source": [
        "\"\"\"\n",
        "df = pd.read_csv('non-meiosis_spo11_combined_aa_features_with_taxa.csv')\n",
        "\n",
        "# Rename first column to 'ID'\n",
        "first_col = df.columns[0]\n",
        "df = df.rename(columns={first_col: 'ID'})\n",
        "df.to_csv('non-meiosis_spo11_combined_aa_features_with_taxa.csv', index=False)\n",
        "\"\"\""
      ],
      "metadata": {
        "colab": {
          "base_uri": "https://localhost:8080/",
          "height": 54
        },
        "id": "Ea_5x6owyM2_",
        "outputId": "7779ed41-35aa-4b95-9c00-ff00f0ab56cb"
      },
      "execution_count": null,
      "outputs": [
        {
          "output_type": "execute_result",
          "data": {
            "text/plain": [
              "\"\\ndf = pd.read_csv('non-meiosis_spo11_combined_aa_features_with_taxa.csv')\\n\\n# Rename first column to 'ID'\\nfirst_col = df.columns[0]\\ndf = df.rename(columns={first_col: 'ID'})\\ndf.to_csv('non-meiosis_spo11_combined_aa_features_with_taxa.csv', index=False)\\n\""
            ],
            "application/vnd.google.colaboratory.intrinsic+json": {
              "type": "string"
            }
          },
          "metadata": {},
          "execution_count": 237
        }
      ]
    },
    {
      "cell_type": "code",
      "source": [
        "from google.colab import files\n",
        "import pandas as pd\n",
        "from sklearn.preprocessing import StandardScaler\n",
        "\n",
        "def standardize_features_with_taxa(input_csv, output_csv):\n",
        "    '''\n",
        "    Standardize feature columns, keeping ID, taxa, and label columns intact.\n",
        "\n",
        "    Parameters:\n",
        "        input_csv (str): Path to input CSV file\n",
        "        output_csv (str): Path for output CSV\n",
        "    '''\n",
        "    # Read CSV\n",
        "    df = pd.read_csv(input_csv)\n",
        "\n",
        "    # Identify columns\n",
        "    id_col = df.columns[0]           # First column: ID\n",
        "    taxa_col = df.columns[-2]        # Second last column: taxa\n",
        "    label_col = df.columns[-1]       # Last column: label\n",
        "\n",
        "    # Extract columns\n",
        "    seq_ids = df[id_col]\n",
        "    taxa = df[taxa_col]\n",
        "    labels = df[label_col]\n",
        "\n",
        "    # Features are everything else\n",
        "    feature_cols = df.columns[1:-2]\n",
        "    features = df[feature_cols]\n",
        "\n",
        "    # Standardize features\n",
        "    scaler = StandardScaler()\n",
        "    features_scaled = pd.DataFrame(scaler.fit_transform(features), columns=feature_cols)\n",
        "\n",
        "    # Recombine\n",
        "    df_normalized = pd.concat([seq_ids, features_scaled, taxa, labels], axis=1)\n",
        "\n",
        "    # Save output\n",
        "    df_normalized.to_csv(output_csv, index=False)\n",
        "    print(f\"✅ Saved standardized data to {output_csv}\")\n",
        "\n",
        "    return df_normalized"
      ],
      "metadata": {
        "id": "Vek4Bz_6s7e2"
      },
      "execution_count": null,
      "outputs": []
    },
    {
      "cell_type": "code",
      "source": [
        "# standardize_features_with_taxa('non-meiosis_spo11_combined_aa_features_with_taxa.csv',\n",
        "#                                'std_non-meiosis_spo11_combined_aa_features_with_taxa.csv')"
      ],
      "metadata": {
        "id": "uRl5wjZWzeAC"
      },
      "execution_count": null,
      "outputs": []
    },
    {
      "cell_type": "code",
      "source": [
        "# uploaded=files.upload() spo11_mrmr_selected_aa_50_with_entropy.csv"
      ],
      "metadata": {
        "colab": {
          "base_uri": "https://localhost:8080/",
          "height": 74
        },
        "id": "lOland3P035Z",
        "outputId": "f091b9d9-5012-4746-c0f4-00fdc1cab642"
      },
      "execution_count": null,
      "outputs": [
        {
          "output_type": "display_data",
          "data": {
            "text/plain": [
              "<IPython.core.display.HTML object>"
            ],
            "text/html": [
              "\n",
              "     <input type=\"file\" id=\"files-2a7d64fe-9280-4edb-b471-66fd90307944\" name=\"files[]\" multiple disabled\n",
              "        style=\"border:none\" />\n",
              "     <output id=\"result-2a7d64fe-9280-4edb-b471-66fd90307944\">\n",
              "      Upload widget is only available when the cell has been executed in the\n",
              "      current browser session. Please rerun this cell to enable.\n",
              "      </output>\n",
              "      <script>// Copyright 2017 Google LLC\n",
              "//\n",
              "// Licensed under the Apache License, Version 2.0 (the \"License\");\n",
              "// you may not use this file except in compliance with the License.\n",
              "// You may obtain a copy of the License at\n",
              "//\n",
              "//      http://www.apache.org/licenses/LICENSE-2.0\n",
              "//\n",
              "// Unless required by applicable law or agreed to in writing, software\n",
              "// distributed under the License is distributed on an \"AS IS\" BASIS,\n",
              "// WITHOUT WARRANTIES OR CONDITIONS OF ANY KIND, either express or implied.\n",
              "// See the License for the specific language governing permissions and\n",
              "// limitations under the License.\n",
              "\n",
              "/**\n",
              " * @fileoverview Helpers for google.colab Python module.\n",
              " */\n",
              "(function(scope) {\n",
              "function span(text, styleAttributes = {}) {\n",
              "  const element = document.createElement('span');\n",
              "  element.textContent = text;\n",
              "  for (const key of Object.keys(styleAttributes)) {\n",
              "    element.style[key] = styleAttributes[key];\n",
              "  }\n",
              "  return element;\n",
              "}\n",
              "\n",
              "// Max number of bytes which will be uploaded at a time.\n",
              "const MAX_PAYLOAD_SIZE = 100 * 1024;\n",
              "\n",
              "function _uploadFiles(inputId, outputId) {\n",
              "  const steps = uploadFilesStep(inputId, outputId);\n",
              "  const outputElement = document.getElementById(outputId);\n",
              "  // Cache steps on the outputElement to make it available for the next call\n",
              "  // to uploadFilesContinue from Python.\n",
              "  outputElement.steps = steps;\n",
              "\n",
              "  return _uploadFilesContinue(outputId);\n",
              "}\n",
              "\n",
              "// This is roughly an async generator (not supported in the browser yet),\n",
              "// where there are multiple asynchronous steps and the Python side is going\n",
              "// to poll for completion of each step.\n",
              "// This uses a Promise to block the python side on completion of each step,\n",
              "// then passes the result of the previous step as the input to the next step.\n",
              "function _uploadFilesContinue(outputId) {\n",
              "  const outputElement = document.getElementById(outputId);\n",
              "  const steps = outputElement.steps;\n",
              "\n",
              "  const next = steps.next(outputElement.lastPromiseValue);\n",
              "  return Promise.resolve(next.value.promise).then((value) => {\n",
              "    // Cache the last promise value to make it available to the next\n",
              "    // step of the generator.\n",
              "    outputElement.lastPromiseValue = value;\n",
              "    return next.value.response;\n",
              "  });\n",
              "}\n",
              "\n",
              "/**\n",
              " * Generator function which is called between each async step of the upload\n",
              " * process.\n",
              " * @param {string} inputId Element ID of the input file picker element.\n",
              " * @param {string} outputId Element ID of the output display.\n",
              " * @return {!Iterable<!Object>} Iterable of next steps.\n",
              " */\n",
              "function* uploadFilesStep(inputId, outputId) {\n",
              "  const inputElement = document.getElementById(inputId);\n",
              "  inputElement.disabled = false;\n",
              "\n",
              "  const outputElement = document.getElementById(outputId);\n",
              "  outputElement.innerHTML = '';\n",
              "\n",
              "  const pickedPromise = new Promise((resolve) => {\n",
              "    inputElement.addEventListener('change', (e) => {\n",
              "      resolve(e.target.files);\n",
              "    });\n",
              "  });\n",
              "\n",
              "  const cancel = document.createElement('button');\n",
              "  inputElement.parentElement.appendChild(cancel);\n",
              "  cancel.textContent = 'Cancel upload';\n",
              "  const cancelPromise = new Promise((resolve) => {\n",
              "    cancel.onclick = () => {\n",
              "      resolve(null);\n",
              "    };\n",
              "  });\n",
              "\n",
              "  // Wait for the user to pick the files.\n",
              "  const files = yield {\n",
              "    promise: Promise.race([pickedPromise, cancelPromise]),\n",
              "    response: {\n",
              "      action: 'starting',\n",
              "    }\n",
              "  };\n",
              "\n",
              "  cancel.remove();\n",
              "\n",
              "  // Disable the input element since further picks are not allowed.\n",
              "  inputElement.disabled = true;\n",
              "\n",
              "  if (!files) {\n",
              "    return {\n",
              "      response: {\n",
              "        action: 'complete',\n",
              "      }\n",
              "    };\n",
              "  }\n",
              "\n",
              "  for (const file of files) {\n",
              "    const li = document.createElement('li');\n",
              "    li.append(span(file.name, {fontWeight: 'bold'}));\n",
              "    li.append(span(\n",
              "        `(${file.type || 'n/a'}) - ${file.size} bytes, ` +\n",
              "        `last modified: ${\n",
              "            file.lastModifiedDate ? file.lastModifiedDate.toLocaleDateString() :\n",
              "                                    'n/a'} - `));\n",
              "    const percent = span('0% done');\n",
              "    li.appendChild(percent);\n",
              "\n",
              "    outputElement.appendChild(li);\n",
              "\n",
              "    const fileDataPromise = new Promise((resolve) => {\n",
              "      const reader = new FileReader();\n",
              "      reader.onload = (e) => {\n",
              "        resolve(e.target.result);\n",
              "      };\n",
              "      reader.readAsArrayBuffer(file);\n",
              "    });\n",
              "    // Wait for the data to be ready.\n",
              "    let fileData = yield {\n",
              "      promise: fileDataPromise,\n",
              "      response: {\n",
              "        action: 'continue',\n",
              "      }\n",
              "    };\n",
              "\n",
              "    // Use a chunked sending to avoid message size limits. See b/62115660.\n",
              "    let position = 0;\n",
              "    do {\n",
              "      const length = Math.min(fileData.byteLength - position, MAX_PAYLOAD_SIZE);\n",
              "      const chunk = new Uint8Array(fileData, position, length);\n",
              "      position += length;\n",
              "\n",
              "      const base64 = btoa(String.fromCharCode.apply(null, chunk));\n",
              "      yield {\n",
              "        response: {\n",
              "          action: 'append',\n",
              "          file: file.name,\n",
              "          data: base64,\n",
              "        },\n",
              "      };\n",
              "\n",
              "      let percentDone = fileData.byteLength === 0 ?\n",
              "          100 :\n",
              "          Math.round((position / fileData.byteLength) * 100);\n",
              "      percent.textContent = `${percentDone}% done`;\n",
              "\n",
              "    } while (position < fileData.byteLength);\n",
              "  }\n",
              "\n",
              "  // All done.\n",
              "  yield {\n",
              "    response: {\n",
              "      action: 'complete',\n",
              "    }\n",
              "  };\n",
              "}\n",
              "\n",
              "scope.google = scope.google || {};\n",
              "scope.google.colab = scope.google.colab || {};\n",
              "scope.google.colab._files = {\n",
              "  _uploadFiles,\n",
              "  _uploadFilesContinue,\n",
              "};\n",
              "})(self);\n",
              "</script> "
            ]
          },
          "metadata": {}
        },
        {
          "output_type": "stream",
          "name": "stdout",
          "text": [
            "Saving spo11_mrmr_selected_aa_50_with_entropy.csv to spo11_mrmr_selected_aa_50_with_entropy.csv\n"
          ]
        }
      ]
    },
    {
      "cell_type": "code",
      "source": [
        "# uploaded=files.upload() spo11_mrmr_selected_aa_50.csv"
      ],
      "metadata": {
        "id": "JKf0K3FVN8a0"
      },
      "execution_count": null,
      "outputs": []
    },
    {
      "cell_type": "code",
      "source": [
        "import pandas as pd\n",
        "\n",
        "def combine_with_selected_features(\n",
        "    input_csv='std_non-meiosis_spo11_combined_aa_features_with_taxa.csv',\n",
        "    selected_features_csv='spo11_mrmr_selected_aa_50_with_entropy.csv',\n",
        "    output_csv='spo11_mrmr_selected_aa_features_50_with_taxa.csv'\n",
        "):\n",
        "    \"\"\"\n",
        "    Combines selected features with original ID, taxa, and label columns.\n",
        "\n",
        "    Parameters:\n",
        "        input_csv (str): Path to standardized CSV with ID, taxa, and label.\n",
        "        selected_features_csv (str): Path to selected features CSV (DMC1 50 features).\n",
        "        output_csv (str): Path to save the final combined CSV.\n",
        "    \"\"\"\n",
        "    # Load datasets\n",
        "    df_main = pd.read_csv(input_csv)\n",
        "    df_selected = pd.read_csv(selected_features_csv)\n",
        "\n",
        "    # Get columns\n",
        "    id_col = df_main.columns[0]     # First column\n",
        "    taxa_col = df_main.columns[-2]  # Second last\n",
        "    label_col = df_main.columns[-1] # Last\n",
        "\n",
        "    # Extract parts from main\n",
        "    df_id = df_main[[id_col]]\n",
        "    df_taxa = df_main[[taxa_col]]\n",
        "    df_label = df_main[[label_col]]\n",
        "\n",
        "    # Extract selected features (columns 2 to second last)\n",
        "    df_selected_features = df_selected.iloc[:, 1:-1]\n",
        "\n",
        "    # Combine\n",
        "    df_final = pd.concat([df_id, df_selected_features, df_taxa, df_label], axis=1)\n",
        "\n",
        "    # Save\n",
        "    df_final.to_csv(output_csv, index=False)\n",
        "    print(f\"✅ Combined dataset saved to {output_csv}\")\n",
        "    print(f\"Shape: {df_final.shape}\")\n",
        "\n",
        "    return df_final\n"
      ],
      "metadata": {
        "id": "Raqko6fF0q9M"
      },
      "execution_count": null,
      "outputs": []
    },
    {
      "cell_type": "code",
      "source": [
        "# combine_with_selected_features()"
      ],
      "metadata": {
        "id": "Jr5c03OXzwlJ"
      },
      "execution_count": null,
      "outputs": []
    },
    {
      "cell_type": "code",
      "source": [
        "# files.download('spo11_mrmr_selected_aa_features_50_with_taxa.csv')"
      ],
      "metadata": {
        "id": "JLXKaqzl1fnD"
      },
      "execution_count": null,
      "outputs": []
    },
    {
      "cell_type": "code",
      "source": [
        "\"\"\"\n",
        "combine_with_selected_features(\n",
        "    input_csv='std_non-meiosis_spo11_combined_aa_features_with_taxa.csv',\n",
        "    selected_features_csv='spo11_mrmr_selected_aa_50.csv',\n",
        "    output_csv='spo11_mrmr_selected_aa_features_50_with_taxa1.csv'\n",
        ")\n",
        "\"\"\""
      ],
      "metadata": {
        "colab": {
          "base_uri": "https://localhost:8080/",
          "height": 54
        },
        "id": "7ihk6zqVOMfF",
        "outputId": "c2e5e7ea-12fd-4bc0-ee6c-0e6fa3f840d6"
      },
      "execution_count": null,
      "outputs": [
        {
          "output_type": "execute_result",
          "data": {
            "text/plain": [
              "\"\\ncombine_with_selected_features(\\n    input_csv='std_non-meiosis_spo11_combined_aa_features_with_taxa.csv',\\n    selected_features_csv='spo11_mrmr_selected_aa_50.csv',\\n    output_csv='spo11_mrmr_selected_aa_features_50_with_taxa1.csv'\\n)\\n\""
            ],
            "application/vnd.google.colaboratory.intrinsic+json": {
              "type": "string"
            }
          },
          "metadata": {},
          "execution_count": 244
        }
      ]
    },
    {
      "cell_type": "code",
      "source": [
        "# files.download('spo11_mrmr_selected_aa_features_50_with_taxa1.csv')"
      ],
      "metadata": {
        "id": "q1-darJXOdDO"
      },
      "execution_count": null,
      "outputs": []
    },
    {
      "cell_type": "code",
      "source": [
        "# uploaded=files.upload() spo11_mrmr_selected_aa_100_with_entropy.csv"
      ],
      "metadata": {
        "id": "9P_J-oqq146O"
      },
      "execution_count": null,
      "outputs": []
    },
    {
      "cell_type": "code",
      "source": [
        "# uploaded=files.upload() spo11_mrmr_selected_aa_100.csv"
      ],
      "metadata": {
        "id": "RoTBf0DtPA5q"
      },
      "execution_count": null,
      "outputs": []
    },
    {
      "cell_type": "code",
      "source": [
        "\"\"\"\n",
        "combine_with_selected_features(\n",
        "    input_csv='std_non-meiosis_spo11_combined_aa_features_with_taxa.csv',\n",
        "    selected_features_csv='spo11_mrmr_selected_aa_100_with_entropy.csv',\n",
        "    output_csv='spo11_mrmr_selected_aa_features_100_with_taxa.csv'\n",
        ")\n",
        "\"\"\""
      ],
      "metadata": {
        "colab": {
          "base_uri": "https://localhost:8080/",
          "height": 54
        },
        "id": "ZX3o5U381-Tr",
        "outputId": "273c9793-9fc1-4848-bee4-a53a907ac62a"
      },
      "execution_count": null,
      "outputs": [
        {
          "output_type": "execute_result",
          "data": {
            "text/plain": [
              "\"\\ncombine_with_selected_features(\\n    input_csv='std_non-meiosis_spo11_combined_aa_features_with_taxa.csv',\\n    selected_features_csv='spo11_mrmr_selected_aa_100_with_entropy.csv',\\n    output_csv='spo11_mrmr_selected_aa_features_100_with_taxa.csv'\\n)\\n\""
            ],
            "application/vnd.google.colaboratory.intrinsic+json": {
              "type": "string"
            }
          },
          "metadata": {},
          "execution_count": 248
        }
      ]
    },
    {
      "cell_type": "code",
      "source": [
        "# files.download('spo11_mrmr_selected_aa_features_100_with_taxa.csv')"
      ],
      "metadata": {
        "id": "GPNnD8882Cy4"
      },
      "execution_count": null,
      "outputs": []
    },
    {
      "cell_type": "code",
      "source": [
        "\"\"\"\n",
        "combine_with_selected_features(\n",
        "    input_csv='std_non-meiosis_spo11_combined_aa_features_with_taxa.csv',\n",
        "    selected_features_csv='spo11_mrmr_selected_aa_100.csv',\n",
        "    output_csv='spo11_mrmr_selected_aa_features_100_with_taxa1.csv'\n",
        ")\n",
        "\"\"\""
      ],
      "metadata": {
        "colab": {
          "base_uri": "https://localhost:8080/",
          "height": 54
        },
        "id": "YWjkK52AO8Mw",
        "outputId": "c85c3fd6-004d-4c16-f01e-3ed556c118dd"
      },
      "execution_count": null,
      "outputs": [
        {
          "output_type": "execute_result",
          "data": {
            "text/plain": [
              "\"\\ncombine_with_selected_features(\\n    input_csv='std_non-meiosis_spo11_combined_aa_features_with_taxa.csv',\\n    selected_features_csv='spo11_mrmr_selected_aa_100.csv',\\n    output_csv='spo11_mrmr_selected_aa_features_100_with_taxa1.csv'\\n)\\n\""
            ],
            "application/vnd.google.colaboratory.intrinsic+json": {
              "type": "string"
            }
          },
          "metadata": {},
          "execution_count": 250
        }
      ]
    },
    {
      "cell_type": "code",
      "source": [
        "# files.download('spo11_mrmr_selected_aa_features_100_with_taxa1.csv')"
      ],
      "metadata": {
        "id": "LTx1pVo4PHmH"
      },
      "execution_count": null,
      "outputs": []
    }
  ]
}