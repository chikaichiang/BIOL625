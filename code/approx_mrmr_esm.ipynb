{
  "nbformat": 4,
  "nbformat_minor": 0,
  "metadata": {
    "colab": {
      "provenance": []
    },
    "kernelspec": {
      "name": "python3",
      "display_name": "Python 3"
    },
    "language_info": {
      "name": "python"
    }
  },
  "cells": [
    {
      "cell_type": "code",
      "source": [
        "from google.colab import files\n",
        "import pandas as pd\n",
        "import numpy as np\n",
        "from sklearn.cluster import AgglomerativeClustering\n",
        "from sklearn.feature_selection import mutual_info_classif\n",
        "\n",
        "def approximate_mrmr_save(X, y, seq_ids, labels, df_original, n_clusters=50, k_features=50, output_csv='mrmr_selected_features.csv'):\n",
        "    \"\"\"\n",
        "    Approximate mRMR with feature clustering + save selected features dataset.\n",
        "\n",
        "    Parameters:\n",
        "    - X: feature matrix (numpy array)\n",
        "    - y: labels (numpy array)\n",
        "    - seq_ids: original sequence IDs (Series)\n",
        "    - labels: labels (Series)\n",
        "    - df_original: original DataFrame\n",
        "    - n_clusters: number of clusters for feature grouping\n",
        "    - k_features: number of final features to select\n",
        "    - output_csv: file name for output CSV\n",
        "\n",
        "    Returns:\n",
        "    - selected_features: list of selected feature indices (as strings)\n",
        "    \"\"\"\n",
        "    # Step 1: Compute correlation distance matrix between features\n",
        "    corr_dist = 1 - np.abs(np.corrcoef(X.T))\n",
        "\n",
        "    # Step 2: Cluster features using correlation distance\n",
        "    clustering = AgglomerativeClustering(\n",
        "        n_clusters=n_clusters,\n",
        "        metric='precomputed',\n",
        "        linkage='complete'\n",
        "    )\n",
        "    clusters = clustering.fit_predict(corr_dist)\n",
        "\n",
        "    # Step 3: Compute Mutual Information\n",
        "    mi_scores = mutual_info_classif(X, y)\n",
        "\n",
        "    # Step 4: Select top-MI feature from each cluster\n",
        "    selected = []\n",
        "    for cluster_id in np.unique(clusters):\n",
        "        cluster_features = np.where(clusters == cluster_id)[0]\n",
        "        top_feature = cluster_features[np.argmax(mi_scores[cluster_features])]\n",
        "        selected.append(top_feature)\n",
        "\n",
        "    # Step 5: Select top-k features (by MI)\n",
        "    selected = sorted(selected, key=lambda x: mi_scores[x], reverse=True)[:k_features]\n",
        "    selected_features = [feature_names[i] for i in selected]\n",
        "\n",
        "    # Step 6: Save new dataset with sequence IDs, selected features, and labels\n",
        "    df_selected = pd.concat([\n",
        "        seq_ids.reset_index(drop=True),\n",
        "        pd.DataFrame(X[:, selected], columns=selected_features),\n",
        "        labels.reset_index(drop=True)\n",
        "    ], axis=1)\n",
        "\n",
        "    df_selected.to_csv(output_csv, index=False)\n",
        "    print(f\"✅ Saved selected features dataset to {output_csv}\")\n",
        "    print(f\"✅ Selected features (column indices): {selected_features}\")\n",
        "\n",
        "    return selected_features\n",
        "\n",
        "\n",
        "\n"
      ],
      "metadata": {
        "id": "jKi_Z1sKBR5q"
      },
      "execution_count": 2,
      "outputs": []
    },
    {
      "cell_type": "code",
      "source": [
        "# 1. Load the CSV\n",
        "# uploaded = files.upload()\n",
        "# df = pd.read_csv('std_combined_dmc1_non_meiosis_cls_embeddings.csv')\n",
        "\n",
        "# 2. Prepare Data\n",
        "# X = df.iloc[:, 1:-1].values  # Feature matrix (exclude ID and label)\n",
        "# y = df.iloc[:, -1].values    # Labels\n",
        "# seq_ids = df.iloc[:, 0]      # Sequence IDs\n",
        "#labels = df.iloc[:, -1]      # Labels (again, for later use)\n",
        "# feature_names = [str(i) for i in range(X.shape[1])]  # Clean feature names (no 'f' prefix)\n",
        "\n",
        "# 4. Run the function\n",
        "# selected_features = approximate_mrmr_save(\n",
        "#    X, y, seq_ids, labels, df,\n",
        "#    n_clusters=50, k_features=50,\n",
        "#    output_csv='dmc1_mrmr_selected_embeddings_50.csv'\n",
        "#)\n",
        "# files.download('dmc1_mrmr_selected_embeddings_50.csv')\n"
      ],
      "metadata": {
        "id": "ATJn53mWFflO"
      },
      "execution_count": null,
      "outputs": []
    },
    {
      "cell_type": "code",
      "source": [
        "import pandas as pd\n",
        "import numpy as np\n",
        "from sklearn.cluster import AgglomerativeClustering\n",
        "from sklearn.feature_selection import mutual_info_classif\n",
        "\n",
        "def approximate_mrmr_from_train(X_train, y_train, feature_names, k_features=50, n_clusters=50):\n",
        "    \"\"\"\n",
        "    Perform approximate mRMR feature selection on the training data.\n",
        "\n",
        "    Parameters:\n",
        "    - X_train: numpy array of training features\n",
        "    - y_train: labels for training set\n",
        "    - feature_names: list of feature column names\n",
        "    - k_features: final number of features to select\n",
        "    - n_clusters: number of clusters to group features\n",
        "\n",
        "    Returns:\n",
        "    - selected_feature_names: list of selected feature column names\n",
        "    - selected_indices: list of selected feature column indices\n",
        "    \"\"\"\n",
        "    # Step 1: Correlation distance matrix\n",
        "    corr_dist = 1 - np.abs(np.corrcoef(X_train.T))\n",
        "\n",
        "    # Step 2: Clustering\n",
        "    clustering = AgglomerativeClustering(\n",
        "    n_clusters=n_clusters,\n",
        "    metric='precomputed',\n",
        "    linkage='average'  # use 'average' with 'precomputed'\n",
        "    )\n",
        "    clusters = clustering.fit_predict(corr_dist)\n",
        "\n",
        "    # Step 3: Mutual information\n",
        "    mi_scores = mutual_info_classif(X_train, y_train)\n",
        "\n",
        "    # Step 4: Select top feature per cluster\n",
        "    selected_indices = []\n",
        "    for cluster_id in np.unique(clusters):\n",
        "        cluster_features = np.where(clusters == cluster_id)[0]\n",
        "        top_feature = cluster_features[np.argmax(mi_scores[cluster_features])]\n",
        "        selected_indices.append(top_feature)\n",
        "\n",
        "    # Step 5: Keep top-k features by MI score\n",
        "    selected_indices = sorted(selected_indices, key=lambda i: mi_scores[i], reverse=True)[:k_features]\n",
        "    selected_feature_names = [feature_names[i] for i in selected_indices]\n",
        "\n",
        "    print(f\"✅ Selected features: {selected_feature_names}\")\n",
        "    return selected_feature_names, selected_indices\n"
      ],
      "metadata": {
        "id": "zbvo2DbE_l4v"
      },
      "execution_count": 8,
      "outputs": []
    },
    {
      "cell_type": "code",
      "source": [
        "# Load training data\n",
        "train_df = pd.read_csv('std_train_spo11_esm.csv')\n",
        "test_df = pd.read_csv('std_test_spo11_esm.csv')\n",
        "\n",
        "# Extract feature names\n",
        "feature_names = train_df.columns[1:-2].tolist()  # assuming format: ID | features | taxa | label\n",
        "\n",
        "# Extract X and y\n",
        "X_train = train_df.iloc[:, 1:-2].values\n",
        "y_train = train_df.iloc[:, -1].values\n",
        "\n",
        "# Run mRMR\n",
        "selected_feature_names, selected_indices = approximate_mrmr_from_train(X_train, y_train, feature_names, k_features=50)\n",
        "\n",
        "# Apply to both train and test sets\n",
        "selected_train_df = pd.concat([\n",
        "    train_df.iloc[:, [0]],               # ID\n",
        "    train_df[selected_feature_names],    # Selected features\n",
        "    train_df.iloc[:, -2:]                # taxa, label\n",
        "], axis=1)\n",
        "\n",
        "selected_test_df = pd.concat([\n",
        "    test_df.iloc[:, [0]],                # ID\n",
        "    test_df[selected_feature_names],     # Selected features\n",
        "    test_df.iloc[:, -2:]                 # taxa, label\n",
        "], axis=1)"
      ],
      "metadata": {
        "colab": {
          "base_uri": "https://localhost:8080/"
        },
        "id": "NChO0xS8_u5A",
        "outputId": "45cb9727-3965-42ec-82df-9db803f15a98"
      },
      "execution_count": 42,
      "outputs": [
        {
          "output_type": "stream",
          "name": "stdout",
          "text": [
            "✅ Selected features: ['181', '201', '418', '289', '2', '624', '539', '549', '268', '334', '319', '172', '247', '78', '263', '243', '225', '327', '271', '133', '303', '337', '285', '113', '290', '476', '356', '535', '453', '157', '36', '404', '228', '250', '183', '48', '294', '44', '448', '575', '396', '634', '383', '392', '399', '490', '429', '196', '602', '152']\n"
          ]
        }
      ]
    },
    {
      "cell_type": "code",
      "source": [
        "# Save output\n",
        "selected_train_df.to_csv('mrmr_selected_train_spo11_esm_50.csv', index=False)\n",
        "selected_test_df.to_csv('mrmr_selected_test_spo11_esm_50.csv', index=False)\n",
        "files.download('mrmr_selected_train_spo11_esm_50.csv')\n",
        "files.download('mrmr_selected_test_spo11_esm_50.csv')"
      ],
      "metadata": {
        "colab": {
          "base_uri": "https://localhost:8080/",
          "height": 17
        },
        "id": "a5c_b72OAwy-",
        "outputId": "df02cca3-0d61-405f-9bd9-a6caa9925a80"
      },
      "execution_count": 43,
      "outputs": [
        {
          "output_type": "display_data",
          "data": {
            "text/plain": [
              "<IPython.core.display.Javascript object>"
            ],
            "application/javascript": [
              "\n",
              "    async function download(id, filename, size) {\n",
              "      if (!google.colab.kernel.accessAllowed) {\n",
              "        return;\n",
              "      }\n",
              "      const div = document.createElement('div');\n",
              "      const label = document.createElement('label');\n",
              "      label.textContent = `Downloading \"${filename}\": `;\n",
              "      div.appendChild(label);\n",
              "      const progress = document.createElement('progress');\n",
              "      progress.max = size;\n",
              "      div.appendChild(progress);\n",
              "      document.body.appendChild(div);\n",
              "\n",
              "      const buffers = [];\n",
              "      let downloaded = 0;\n",
              "\n",
              "      const channel = await google.colab.kernel.comms.open(id);\n",
              "      // Send a message to notify the kernel that we're ready.\n",
              "      channel.send({})\n",
              "\n",
              "      for await (const message of channel.messages) {\n",
              "        // Send a message to notify the kernel that we're ready.\n",
              "        channel.send({})\n",
              "        if (message.buffers) {\n",
              "          for (const buffer of message.buffers) {\n",
              "            buffers.push(buffer);\n",
              "            downloaded += buffer.byteLength;\n",
              "            progress.value = downloaded;\n",
              "          }\n",
              "        }\n",
              "      }\n",
              "      const blob = new Blob(buffers, {type: 'application/binary'});\n",
              "      const a = document.createElement('a');\n",
              "      a.href = window.URL.createObjectURL(blob);\n",
              "      a.download = filename;\n",
              "      div.appendChild(a);\n",
              "      a.click();\n",
              "      div.remove();\n",
              "    }\n",
              "  "
            ]
          },
          "metadata": {}
        },
        {
          "output_type": "display_data",
          "data": {
            "text/plain": [
              "<IPython.core.display.Javascript object>"
            ],
            "application/javascript": [
              "download(\"download_5399c7d2-754f-4661-a5e9-addd8f4baf3b\", \"mrmr_selected_train_rec8_esm_50.csv\", 2178064)"
            ]
          },
          "metadata": {}
        },
        {
          "output_type": "display_data",
          "data": {
            "text/plain": [
              "<IPython.core.display.Javascript object>"
            ],
            "application/javascript": [
              "\n",
              "    async function download(id, filename, size) {\n",
              "      if (!google.colab.kernel.accessAllowed) {\n",
              "        return;\n",
              "      }\n",
              "      const div = document.createElement('div');\n",
              "      const label = document.createElement('label');\n",
              "      label.textContent = `Downloading \"${filename}\": `;\n",
              "      div.appendChild(label);\n",
              "      const progress = document.createElement('progress');\n",
              "      progress.max = size;\n",
              "      div.appendChild(progress);\n",
              "      document.body.appendChild(div);\n",
              "\n",
              "      const buffers = [];\n",
              "      let downloaded = 0;\n",
              "\n",
              "      const channel = await google.colab.kernel.comms.open(id);\n",
              "      // Send a message to notify the kernel that we're ready.\n",
              "      channel.send({})\n",
              "\n",
              "      for await (const message of channel.messages) {\n",
              "        // Send a message to notify the kernel that we're ready.\n",
              "        channel.send({})\n",
              "        if (message.buffers) {\n",
              "          for (const buffer of message.buffers) {\n",
              "            buffers.push(buffer);\n",
              "            downloaded += buffer.byteLength;\n",
              "            progress.value = downloaded;\n",
              "          }\n",
              "        }\n",
              "      }\n",
              "      const blob = new Blob(buffers, {type: 'application/binary'});\n",
              "      const a = document.createElement('a');\n",
              "      a.href = window.URL.createObjectURL(blob);\n",
              "      a.download = filename;\n",
              "      div.appendChild(a);\n",
              "      a.click();\n",
              "      div.remove();\n",
              "    }\n",
              "  "
            ]
          },
          "metadata": {}
        },
        {
          "output_type": "display_data",
          "data": {
            "text/plain": [
              "<IPython.core.display.Javascript object>"
            ],
            "application/javascript": [
              "download(\"download_31c867e8-7e37-4ed7-87f5-610c027ee2fa\", \"mrmr_selected_test_rec8_esm_50.csv\", 933735)"
            ]
          },
          "metadata": {}
        }
      ]
    },
    {
      "cell_type": "code",
      "source": [
        "# Load training data\n",
        "train_df = pd.read_csv('std_train_spo11_esm.csv')\n",
        "test_df = pd.read_csv('std_test_spo11_esm.csv')\n",
        "\n",
        "# Extract feature names\n",
        "feature_names = train_df.columns[1:-2].tolist()  # assuming format: ID | features | taxa | label\n",
        "\n",
        "# Extract X and y\n",
        "X_train = train_df.iloc[:, 1:-2].values\n",
        "y_train = train_df.iloc[:, -1].values\n",
        "\n",
        "# Run mRMR\n",
        "selected_feature_names, selected_indices = approximate_mrmr_from_train(X_train, y_train, feature_names, k_features=100, n_clusters=100)\n",
        "\n",
        "# Apply to both train and test sets\n",
        "selected_train_df = pd.concat([\n",
        "    train_df.iloc[:, [0]],               # ID\n",
        "    train_df[selected_feature_names],    # Selected features\n",
        "    train_df.iloc[:, -2:]                # taxa, label\n",
        "], axis=1)\n",
        "\n",
        "selected_test_df = pd.concat([\n",
        "    test_df.iloc[:, [0]],                # ID\n",
        "    test_df[selected_feature_names],     # Selected features\n",
        "    test_df.iloc[:, -2:]                 # taxa, label\n",
        "], axis=1)"
      ],
      "metadata": {
        "colab": {
          "base_uri": "https://localhost:8080/"
        },
        "id": "Iv9TWCLVBYcn",
        "outputId": "f085186e-b7e8-43cc-e119-7c62c01cd6b3"
      },
      "execution_count": 44,
      "outputs": [
        {
          "output_type": "stream",
          "name": "stdout",
          "text": [
            "✅ Selected features: ['181', '536', '201', '418', '107', '289', '553', '2', '624', '539', '390', '549', '268', '117', '592', '334', '319', '371', '559', '182', '503', '434', '172', '520', '286', '247', '78', '263', '243', '225', '327', '271', '133', '303', '211', '337', '147', '214', '285', '113', '353', '638', '290', '13', '6', '110', '71', '476', '516', '356', '535', '453', '119', '72', '39', '45', '475', '157', '258', '36', '630', '404', '228', '250', '426', '7', '30', '183', '92', '227', '427', '48', '240', '255', '294', '44', '394', '287', '448', '555', '575', '237', '396', '634', '79', '70', '383', '392', '399', '42', '490', '429', '196', '602', '430', '66', '318', '501', '152', '637']\n"
          ]
        }
      ]
    },
    {
      "cell_type": "code",
      "source": [
        "# Save output\n",
        "selected_train_df.to_csv('mrmr_selected_train_spo11_esm_100.csv', index=False)\n",
        "selected_test_df.to_csv('mrmr_selected_test_spo11_esm_100.csv', index=False)\n",
        "files.download('mrmr_selected_train_spo11_esm_100.csv')\n",
        "files.download('mrmr_selected_test_spo11_esm_100.csv')"
      ],
      "metadata": {
        "colab": {
          "base_uri": "https://localhost:8080/",
          "height": 17
        },
        "id": "vmxCLyoSBytq",
        "outputId": "94807ba6-4892-43ec-b339-46458e9dc9e2"
      },
      "execution_count": 45,
      "outputs": [
        {
          "output_type": "display_data",
          "data": {
            "text/plain": [
              "<IPython.core.display.Javascript object>"
            ],
            "application/javascript": [
              "\n",
              "    async function download(id, filename, size) {\n",
              "      if (!google.colab.kernel.accessAllowed) {\n",
              "        return;\n",
              "      }\n",
              "      const div = document.createElement('div');\n",
              "      const label = document.createElement('label');\n",
              "      label.textContent = `Downloading \"${filename}\": `;\n",
              "      div.appendChild(label);\n",
              "      const progress = document.createElement('progress');\n",
              "      progress.max = size;\n",
              "      div.appendChild(progress);\n",
              "      document.body.appendChild(div);\n",
              "\n",
              "      const buffers = [];\n",
              "      let downloaded = 0;\n",
              "\n",
              "      const channel = await google.colab.kernel.comms.open(id);\n",
              "      // Send a message to notify the kernel that we're ready.\n",
              "      channel.send({})\n",
              "\n",
              "      for await (const message of channel.messages) {\n",
              "        // Send a message to notify the kernel that we're ready.\n",
              "        channel.send({})\n",
              "        if (message.buffers) {\n",
              "          for (const buffer of message.buffers) {\n",
              "            buffers.push(buffer);\n",
              "            downloaded += buffer.byteLength;\n",
              "            progress.value = downloaded;\n",
              "          }\n",
              "        }\n",
              "      }\n",
              "      const blob = new Blob(buffers, {type: 'application/binary'});\n",
              "      const a = document.createElement('a');\n",
              "      a.href = window.URL.createObjectURL(blob);\n",
              "      a.download = filename;\n",
              "      div.appendChild(a);\n",
              "      a.click();\n",
              "      div.remove();\n",
              "    }\n",
              "  "
            ]
          },
          "metadata": {}
        },
        {
          "output_type": "display_data",
          "data": {
            "text/plain": [
              "<IPython.core.display.Javascript object>"
            ],
            "application/javascript": [
              "download(\"download_cd3eba9d-a21e-4ff5-be01-b8b2c2c3a9a0\", \"mrmr_selected_train_rec8_esm_100.csv\", 4152142)"
            ]
          },
          "metadata": {}
        },
        {
          "output_type": "display_data",
          "data": {
            "text/plain": [
              "<IPython.core.display.Javascript object>"
            ],
            "application/javascript": [
              "\n",
              "    async function download(id, filename, size) {\n",
              "      if (!google.colab.kernel.accessAllowed) {\n",
              "        return;\n",
              "      }\n",
              "      const div = document.createElement('div');\n",
              "      const label = document.createElement('label');\n",
              "      label.textContent = `Downloading \"${filename}\": `;\n",
              "      div.appendChild(label);\n",
              "      const progress = document.createElement('progress');\n",
              "      progress.max = size;\n",
              "      div.appendChild(progress);\n",
              "      document.body.appendChild(div);\n",
              "\n",
              "      const buffers = [];\n",
              "      let downloaded = 0;\n",
              "\n",
              "      const channel = await google.colab.kernel.comms.open(id);\n",
              "      // Send a message to notify the kernel that we're ready.\n",
              "      channel.send({})\n",
              "\n",
              "      for await (const message of channel.messages) {\n",
              "        // Send a message to notify the kernel that we're ready.\n",
              "        channel.send({})\n",
              "        if (message.buffers) {\n",
              "          for (const buffer of message.buffers) {\n",
              "            buffers.push(buffer);\n",
              "            downloaded += buffer.byteLength;\n",
              "            progress.value = downloaded;\n",
              "          }\n",
              "        }\n",
              "      }\n",
              "      const blob = new Blob(buffers, {type: 'application/binary'});\n",
              "      const a = document.createElement('a');\n",
              "      a.href = window.URL.createObjectURL(blob);\n",
              "      a.download = filename;\n",
              "      div.appendChild(a);\n",
              "      a.click();\n",
              "      div.remove();\n",
              "    }\n",
              "  "
            ]
          },
          "metadata": {}
        },
        {
          "output_type": "display_data",
          "data": {
            "text/plain": [
              "<IPython.core.display.Javascript object>"
            ],
            "application/javascript": [
              "download(\"download_d4def920-b51d-424c-94f4-b7235f558ee6\", \"mrmr_selected_test_rec8_esm_100.csv\", 1779982)"
            ]
          },
          "metadata": {}
        }
      ]
    }
  ]
}