{
  "nbformat": 4,
  "nbformat_minor": 0,
  "metadata": {
    "colab": {
      "provenance": []
    },
    "kernelspec": {
      "name": "python3",
      "display_name": "Python 3"
    },
    "language_info": {
      "name": "python"
    }
  },
  "cells": [
    {
      "cell_type": "code",
      "source": [
        "from google.colab import files\n",
        "import pandas as pd\n",
        "import re\n",
        "\n",
        "# Upload and load file\n",
        "# uploaded = files.upload()\n",
        "# filename = next(iter(uploaded))\n",
        "# df = pd.read_csv(filename)\n",
        "\n",
        "# Parse FASTA-style header\n",
        "def parse_fasta_header(header):\n",
        "    \"\"\"\n",
        "    Parses a FASTA-style header string to extract:\n",
        "    - accession: the first word in the header\n",
        "    - gene: the second word (if any)\n",
        "    - organism: value inside [organism=...]\n",
        "    - gene_id: value inside [GeneID=...]\n",
        "\n",
        "    Returns:\n",
        "    A pandas Series with [accession, gene, organism, gene_id]\n",
        "    \"\"\"\n",
        "    header = str(header).lstrip('>').strip()\n",
        "\n",
        "    \"\"\" Split header by whitespace, take the first as accession \"\"\"\n",
        "    parts = header.split(maxsplit=1)\n",
        "    accession = parts[0] if parts else None\n",
        "\n",
        "    \"\"\" Extract gene name from second part if available \"\"\"\n",
        "    gene = re.search(r'^(\\S+)', parts[1]).group(1) if len(parts) > 1 else None\n",
        "\n",
        "    \"\"\" Extract organism name enclosed in [organism=...] \"\"\"\n",
        "    organism = re.search(r'\\[organism=([^\\]]+)\\]', header)\n",
        "\n",
        "    \"\"\" Extract NCBI GeneID enclosed in [GeneID=...] \"\"\"\n",
        "    gene_id = re.search(r'\\[GeneID=(\\d+)\\]', header)\n",
        "\n",
        "    return pd.Series([\n",
        "        accession,\n",
        "        gene,\n",
        "        organism.group(1).strip() if organism else None,\n",
        "        int(gene_id.group(1)) if gene_id else None\n",
        "    ])\n",
        "\n",
        "# Apply parser to the first column\n",
        "header_col = df.columns[0]\n",
        "df[['accession', 'gene', 'organism', 'gene_id']] = df[header_col].apply(parse_fasta_header)\n",
        "\n",
        "\"\"\" Move parsed columns to the front for readability \"\"\"\n",
        "parsed_cols = ['accession', 'gene', 'organism', 'gene_id']\n",
        "df = df[parsed_cols + [col for col in df.columns if col not in parsed_cols]]\n",
        "\n",
        "\"\"\" Drop redundant or unwanted columns, rename first to 'ID' \"\"\"\n",
        "df = df.drop(columns=[col for col in ['ID', 'gene', 'gene_id'] if col in df.columns])\n",
        "df.columns.values[0] = 'ID'  # Renaming 'accession' to 'ID'\n",
        "\n",
        "\"\"\" Save the cleaned DataFrame to CSV and trigger download \"\"\"\n",
        "output_file = \"parsed_dataset_cleaned.csv\"\n",
        "df.to_csv(output_file, index=False)\n",
        "# files.download(output_file)\n",
        "\n",
        "\"\"\" Preview the resulting DataFrame \"\"\"\n",
        "print(\"✅ Saved and downloaded:\", output_file)\n",
        "print(\"🔍 Sample:\")\n",
        "print(df.head())"
      ],
      "metadata": {
        "colab": {
          "base_uri": "https://localhost:8080/",
          "height": 453
        },
        "id": "gy9hf1CJ9Hcl",
        "outputId": "8acb3cdc-c818-4475-a29f-530fbaba3810"
      },
      "execution_count": 29,
      "outputs": [
        {
          "output_type": "display_data",
          "data": {
            "text/plain": [
              "<IPython.core.display.Javascript object>"
            ],
            "application/javascript": [
              "\n",
              "    async function download(id, filename, size) {\n",
              "      if (!google.colab.kernel.accessAllowed) {\n",
              "        return;\n",
              "      }\n",
              "      const div = document.createElement('div');\n",
              "      const label = document.createElement('label');\n",
              "      label.textContent = `Downloading \"${filename}\": `;\n",
              "      div.appendChild(label);\n",
              "      const progress = document.createElement('progress');\n",
              "      progress.max = size;\n",
              "      div.appendChild(progress);\n",
              "      document.body.appendChild(div);\n",
              "\n",
              "      const buffers = [];\n",
              "      let downloaded = 0;\n",
              "\n",
              "      const channel = await google.colab.kernel.comms.open(id);\n",
              "      // Send a message to notify the kernel that we're ready.\n",
              "      channel.send({})\n",
              "\n",
              "      for await (const message of channel.messages) {\n",
              "        // Send a message to notify the kernel that we're ready.\n",
              "        channel.send({})\n",
              "        if (message.buffers) {\n",
              "          for (const buffer of message.buffers) {\n",
              "            buffers.push(buffer);\n",
              "            downloaded += buffer.byteLength;\n",
              "            progress.value = downloaded;\n",
              "          }\n",
              "        }\n",
              "      }\n",
              "      const blob = new Blob(buffers, {type: 'application/binary'});\n",
              "      const a = document.createElement('a');\n",
              "      a.href = window.URL.createObjectURL(blob);\n",
              "      a.download = filename;\n",
              "      div.appendChild(a);\n",
              "      a.click();\n",
              "      div.remove();\n",
              "    }\n",
              "  "
            ]
          },
          "metadata": {}
        },
        {
          "output_type": "display_data",
          "data": {
            "text/plain": [
              "<IPython.core.display.Javascript object>"
            ],
            "application/javascript": [
              "download(\"download_252b2639-44f9-4e23-b0e1-a76f1eb05dd6\", \"parsed_dataset_cleaned.csv\", 22640182)"
            ]
          },
          "metadata": {}
        },
        {
          "output_type": "stream",
          "name": "stdout",
          "text": [
            "✅ Saved and downloaded: parsed_dataset_cleaned.csv\n",
            "🔍 Sample:\n",
            "               ID organism         0         1         2         3         4  \\\n",
            "0  XP_003173707.1     None -0.006135  0.050274  0.013580  0.151005 -0.110469   \n",
            "1  XP_003868575.1     None -0.166736 -0.026779  0.034778  0.162941 -0.149222   \n",
            "2  XP_009155451.1     None -0.048188  0.044912 -0.005841  0.136747 -0.109549   \n",
            "3  XP_012053617.1     None -0.008090 -0.011336  0.013626  0.126519 -0.100549   \n",
            "4  XP_012053797.1     None -0.019506 -0.037147  0.065685  0.093515 -0.189973   \n",
            "\n",
            "          5         6         7  ...       632       633       634       635  \\\n",
            "0 -0.026739 -0.060721 -0.081719  ...  0.648811  0.026623  0.204221  0.169833   \n",
            "1 -0.005653 -0.121203 -0.115645  ...  0.783493 -0.040031  0.269652  0.146528   \n",
            "2 -0.109485 -0.040130 -0.016120  ...  0.640124  0.040284  0.176221  0.161390   \n",
            "3 -0.049484 -0.072294 -0.140488  ...  0.810893 -0.043094  0.182306  0.136243   \n",
            "4  0.005849 -0.127986 -0.047920  ...  0.510138  0.022441  0.182700  0.111534   \n",
            "\n",
            "        636       637       638       639   taxa  label  \n",
            "0 -0.177828  0.131795 -0.118758  0.216070  fungi      1  \n",
            "1 -0.196968 -0.041068 -0.115201  0.132378  fungi      1  \n",
            "2 -0.134024  0.049235 -0.090204  0.193975  fungi      1  \n",
            "3 -0.065912  0.081407 -0.091550  0.200639  fungi      1  \n",
            "4 -0.158774 -0.078440 -0.176849  0.034744  fungi      1  \n",
            "\n",
            "[5 rows x 644 columns]\n"
          ]
        }
      ]
    },
    {
      "cell_type": "code",
      "source": [
        "files.download(output_file)"
      ],
      "metadata": {
        "id": "f-2vL1Jw9LBz"
      },
      "execution_count": null,
      "outputs": []
    }
  ]
}