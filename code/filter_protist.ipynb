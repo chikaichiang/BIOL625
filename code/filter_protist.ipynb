{
  "cells": [
    {
      "cell_type": "code",
      "execution_count": null,
      "metadata": {
        "colab": {
          "base_uri": "https://localhost:8080/"
        },
        "id": "UEVhJorMlRQ7",
        "outputId": "a83ae0a0-9441-4538-98f2-e24a349480f1"
      },
      "outputs": [
        {
          "name": "stdout",
          "output_type": "stream",
          "text": [
            "Collecting biopython\n",
            "  Downloading biopython-1.85-cp311-cp311-manylinux_2_17_x86_64.manylinux2014_x86_64.whl.metadata (13 kB)\n",
            "Requirement already satisfied: numpy in /usr/local/lib/python3.11/dist-packages (from biopython) (2.0.2)\n",
            "Downloading biopython-1.85-cp311-cp311-manylinux_2_17_x86_64.manylinux2014_x86_64.whl (3.3 MB)\n",
            "\u001b[2K   \u001b[90m━━━━━━━━━━━━━━━━━━━━━━━━━━━━━━━━━━━━━━━━\u001b[0m \u001b[32m3.3/3.3 MB\u001b[0m \u001b[31m30.3 MB/s\u001b[0m eta \u001b[36m0:00:00\u001b[0m\n",
            "\u001b[?25hInstalling collected packages: biopython\n",
            "Successfully installed biopython-1.85\n"
          ]
        }
      ],
      "source": [
        "!pip install biopython\n",
        "\n",
        "from Bio import SeqIO\n",
        "from Bio.SeqRecord import SeqRecord\n",
        "from Bio.Seq import Seq\n",
        "\n",
        "def filter_faa_sequences(input_faa, output_kept_faa, output_removed_faa,\n",
        "                         ambiguous_threshold=0.05, min_length=50, filter_rare=True):\n",
        "    \"\"\"\n",
        "    Filter protist sequences in a .faa FASTA file based on:\n",
        "    - Ambiguous amino acids (X, B, Z)\n",
        "    - Sequence length\n",
        "    - Rare amino acids (U, O)\n",
        "    - Duplicate sequences (exact sequence match)\n",
        "\n",
        "    Args:\n",
        "        input_faa (str): Path to input .faa file\n",
        "        output_kept_faa (str): Path to output kept sequences .faa file\n",
        "        output_removed_faa (str): Path to output removed sequences .faa file\n",
        "        ambiguous_threshold (float): Max allowed proportion of ambiguous residues (default: 0.05)\n",
        "        min_length (int): Minimum sequence length (default: 50)\n",
        "    \"\"\"\n",
        "    ambiguous_residues = set('XBZ')\n",
        "    rare_residues = set('UO')\n",
        "\n",
        "    records = list(SeqIO.parse(input_faa, \"fasta\"))\n",
        "    kept = []\n",
        "    removed = []\n",
        "    seen_sequences = {}\n",
        "\n",
        "    for record in records:\n",
        "        seq = str(record.seq).upper()\n",
        "        length = len(seq)\n",
        "        reason = None\n",
        "\n",
        "        # Check for duplicates\n",
        "        if seq in seen_sequences:\n",
        "            reason = f\"Duplicate of {seen_sequences[seq]}\"\n",
        "        else:\n",
        "            seen_sequences[seq] = record.id\n",
        "\n",
        "            # Length check\n",
        "            if length < min_length:\n",
        "                reason = f\"Too short (<{min_length} aa)\"\n",
        "            else:\n",
        "                # Ambiguous residue check\n",
        "                num_ambiguous = sum(seq.count(res) for res in ambiguous_residues)\n",
        "                frac_ambiguous = num_ambiguous / length\n",
        "                if frac_ambiguous > ambiguous_threshold:\n",
        "                    reason = f\"Ambiguous residues > {ambiguous_threshold*100:.1f}%\"\n",
        "                else:\n",
        "                    # Optional: Rare amino acids check\n",
        "                    if filter_rare and any(res in seq for res in rare_residues):\n",
        "                        reason = f\"Rare amino acid (U/O) present\"\n",
        "\n",
        "        if reason:\n",
        "            new_record = SeqRecord(Seq(seq), id=record.id, description=reason)\n",
        "            removed.append(new_record)\n",
        "        else:\n",
        "            kept.append(record)\n",
        "\n",
        "    # Write kept and removed sequences to separate files\n",
        "    SeqIO.write(kept, output_kept_faa, \"fasta\")\n",
        "    SeqIO.write(removed, output_removed_faa, \"fasta\")\n",
        "\n",
        "    # Summary report\n",
        "    print(f\"Filtering complete: {len(removed)} sequences removed, {len(kept)} sequences kept out of {len(records)} total.\")\n",
        "    print(f\"Kept sequences saved to: {output_kept_faa}\")\n",
        "    print(f\"Removed sequences saved to: {output_removed_faa}\")\n",
        "\n",
        "    return kept, removed\n"
      ]
    }
  ],
  "metadata": {
    "colab": {
      "provenance": []
    },
    "kernelspec": {
      "display_name": "Python 3",
      "name": "python3"
    },
    "language_info": {
      "name": "python"
    }
  },
  "nbformat": 4,
  "nbformat_minor": 0
}
