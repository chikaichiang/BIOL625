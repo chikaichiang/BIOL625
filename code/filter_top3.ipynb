{
 "cells": [
  {
   "cell_type": "code",
   "execution_count": 1,
   "metadata": {
    "colab": {
     "base_uri": "https://localhost:8080/"
    },
    "executionInfo": {
     "elapsed": 4526,
     "status": "ok",
     "timestamp": 1748580996246,
     "user": {
      "displayName": "Chikai Chiang",
      "userId": "11358177289674085250"
     },
     "user_tz": 240
    },
    "id": "mkNskLqVeSn6",
    "outputId": "2af52ec4-89df-4482-8523-39b7ed9d9448"
   },
   "outputs": [
    {
     "name": "stdout",
     "output_type": "stream",
     "text": [
      "Requirement already satisfied: biopython in c:\\users\\12073\\anaconda3\\lib\\site-packages (1.85)\n",
      "Requirement already satisfied: numpy in c:\\users\\12073\\anaconda3\\lib\\site-packages (from biopython) (1.23.5)\n"
     ]
    }
   ],
   "source": [
    "# Install Biopython (if not installed)\n",
    "!pip install biopython\n",
    "\n",
    "from collections import defaultdict\n",
    "from Bio import SeqIO\n",
    "\n",
    "def select_top3_longest_by_species(input_faa, output_faa):\n",
    "    \"\"\"\n",
    "    select_top3_longest_by_species(input_faa, output_faa)\n",
    "\n",
    "    Selects the top 3 longest protein sequences per species from an input multi-FASTA (.faa) file and saves them to an output FASTA file for extreme counts in non-meiosis.\n",
    "    If a species has fewer than 3 sequences, all are retained. The species information is extracted from the [organism=...] tag in the FASTA header.\n",
    "\n",
    "    This function helps reduce redundancy by focusing on representative sequences for each species, useful for downstream comparative analyses.\n",
    "\n",
    "    Parameters:\n",
    "    - input_faa (str): Path to the input FASTA file containing protein sequences.\n",
    "    - output_faa (str): Path for the output FASTA file containing the top 3 sequences per species.\n",
    "\n",
    "    Outputs:\n",
    "    - A FASTA file with up to 3 longest sequences per species saved to 'output_faa'.\n",
    "    - A printout summary of the number of sequences retained.\n",
    "    - Automatically triggers download of the output file (for Colab workflows).\n",
    "\n",
    "    Example:\n",
    "    >>> select_top3_longest_by_species(\"cleaned_MYO_animals.faa\", \"cleaned_MYO_animals_top3.faa\")\n",
    "    \"\"\"\n",
    "\n",
    "    species_seqs = defaultdict(list)\n",
    "\n",
    "    with open(input_faa) as handle:\n",
    "        for record in SeqIO.parse(handle, \"fasta\"):\n",
    "            header = record.description\n",
    "            start = header.find(\"[organism=\")\n",
    "            if start == -1:\n",
    "                species = \"Unknown\"\n",
    "            else:\n",
    "                end = header.find(\"]\", start)\n",
    "                species = header[start+10:end]\n",
    "\n",
    "            species_seqs[species].append(record)\n",
    "\n",
    "    selected_seqs = []\n",
    "    for species, seqs in species_seqs.items():\n",
    "        seqs_sorted = sorted(seqs, key=lambda x: len(x.seq), reverse=True)\n",
    "        if len(seqs_sorted) > 3:\n",
    "            selected = seqs_sorted[:3]\n",
    "        else:\n",
    "            selected = seqs_sorted\n",
    "        selected_seqs.extend(selected)\n",
    "\n",
    "    with open(output_faa, \"w\") as out_handle:\n",
    "        SeqIO.write(selected_seqs, out_handle, \"fasta\")\n",
    "\n",
    "    print(f\"Selected {len(selected_seqs)} sequences.\")\n",
    "    print(f\"Filtered sequences saved to '{output_faa}'\")\n",
    "\n",
    "    # Trigger download (for Colab)\n",
    "    files.download(output_faa)"
   ]
  },
  {
   "cell_type": "code",
   "execution_count": 2,
   "metadata": {
    "colab": {
     "base_uri": "https://localhost:8080/",
     "height": 110
    },
    "executionInfo": {
     "elapsed": 11031,
     "status": "ok",
     "timestamp": 1748581011758,
     "user": {
      "displayName": "Chikai Chiang",
      "userId": "11358177289674085250"
     },
     "user_tz": 240
    },
    "id": "BVdGmC9uex9b",
    "outputId": "8c1f9bd1-0aa4-48b7-dc99-792ba10017d5"
   },
   "outputs": [],
   "source": [
    "# Only keep top three sequences for Myosin of animals\n",
    "# from google.colab import files\n",
    "# uploaded = files.upload()\n",
    "# select_top3_longest_by_species(\"cleaned_MYO_animals.faa\", \"cleaned_MYO_animals_top3.faa\")"
   ]
  }
 ],
 "metadata": {
  "colab": {
   "authorship_tag": "ABX9TyOO7xW7/as0HdOJg1E2RSNs",
   "provenance": []
  },
  "kernelspec": {
   "display_name": "base",
   "language": "python",
   "name": "python3"
  },
  "language_info": {
   "codemirror_mode": {
    "name": "ipython",
    "version": 3
   },
   "file_extension": ".py",
   "mimetype": "text/x-python",
   "name": "python",
   "nbconvert_exporter": "python",
   "pygments_lexer": "ipython3",
   "version": "3.10.9"
  }
 },
 "nbformat": 4,
 "nbformat_minor": 0
}
