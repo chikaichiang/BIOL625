{
  "cells": [
    {
      "cell_type": "code",
      "execution_count": null,
      "metadata": {
        "colab": {
          "base_uri": "https://localhost:8080/"
        },
        "id": "2Kzz0mvkHq5j",
        "outputId": "e7efb245-0f3a-4a07-f4df-7cea73fdc3e7"
      },
      "outputs": [
        {
          "name": "stdout",
          "output_type": "stream",
          "text": [
            "Requirement already satisfied: biopython in /usr/local/lib/python3.11/dist-packages (1.85)\n",
            "Requirement already satisfied: numpy in /usr/local/lib/python3.11/dist-packages (from biopython) (2.0.2)\n"
          ]
        }
      ],
      "source": [
        "! pip install biopython\n",
        "from Bio import SeqIO\n",
        "\n",
        "def filter_check_faa_sequences(input_faa, output_faa, ambiguous_threshold=0.05, min_length=50, filter_rare=True):\n",
        "    \"\"\"\n",
        "    Filter protein sequences in a .faa FASTA file based on:\n",
        "    - Ambiguous amino acids (X, B, Z)\n",
        "    - Sequence length\n",
        "    - Optional: Rare amino acids (U, O)\n",
        "\n",
        "    Args:\n",
        "        input_faa (str): Path to input .faa file\n",
        "        output_faa (str): Path to output filtered .faa file\n",
        "        ambiguous_threshold (float): Max allowed proportion of ambiguous residues (default: 0.05)\n",
        "        min_length (int): Minimum sequence length (default: 50)\n",
        "    \"\"\"\n",
        "    ambiguous_residues = set('XBZ')\n",
        "    rare_residues = set('UO')\n",
        "\n",
        "    records = list(SeqIO.parse(input_faa, \"fasta\"))\n",
        "    kept = []\n",
        "    removed = []\n",
        "\n",
        "    for record in records:\n",
        "        seq = str(record.seq).upper()\n",
        "        length = len(seq)\n",
        "\n",
        "        # Length check\n",
        "        if length < min_length:\n",
        "            removed.append((record.id, 'Too short'))\n",
        "            continue\n",
        "\n",
        "        # Ambiguous residue check\n",
        "        num_ambiguous = sum(seq.count(res) for res in ambiguous_residues)\n",
        "        frac_ambiguous = num_ambiguous / length\n",
        "        if frac_ambiguous > ambiguous_threshold:\n",
        "            removed.append((record.id, f\"Ambiguous residues > {ambiguous_threshold*100:.1f}%\"))\n",
        "            continue\n",
        "\n",
        "        kept.append(record)\n",
        "\n",
        "    SeqIO.write(kept, output_faa, \"fasta\")\n",
        "    print(f\"Filtering complete: {len(removed)} sequences removed out of {len(records)} total.\")\n",
        "\n",
        "    return kept, removed"
      ]
    }
  ],
  "metadata": {
    "colab": {
      "provenance": []
    },
    "kernelspec": {
      "display_name": "Python 3",
      "name": "python3"
    },
    "language_info": {
      "name": "python"
    }
  },
  "nbformat": 4,
  "nbformat_minor": 0
}
