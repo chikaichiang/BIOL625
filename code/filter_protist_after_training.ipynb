{
  "nbformat": 4,
  "nbformat_minor": 0,
  "metadata": {
    "colab": {
      "provenance": []
    },
    "kernelspec": {
      "name": "python3",
      "display_name": "Python 3"
    },
    "language_info": {
      "name": "python"
    }
  },
  "cells": [
    {
      "cell_type": "code",
      "execution_count": 3,
      "metadata": {
        "id": "sfoELXxAsRT5"
      },
      "outputs": [],
      "source": [
        "import pandas as pd\n",
        "from google.colab import files"
      ]
    },
    {
      "cell_type": "code",
      "source": [
        "import pandas as pd\n",
        "\n",
        "def extract_matching_fasta_sequences(csv_file, fasta_input, fasta_output):\n",
        "    \"\"\"\n",
        "    Extracts sequences from a .faa file based on IDs listed in a CSV file and saves them to a new .faa file.\n",
        "\n",
        "    Parameters:\n",
        "    - csv_file (str): Path to the CSV file containing sequence IDs in the first column.\n",
        "    - fasta_input (str): Path to the input FASTA (.faa) file.\n",
        "    - fasta_output (str): Path to the output FASTA file to save matched sequences.\n",
        "    \"\"\"\n",
        "\n",
        "    # Load list of target IDs from CSV\n",
        "    df_ids = pd.read_csv(csv_file)\n",
        "    id_list = set(df_ids.iloc[:, 0].str.strip())\n",
        "\n",
        "    with open(fasta_input, \"r\") as infile, open(fasta_output, \"w\") as outfile:\n",
        "        write_seq = False\n",
        "        current_header = \"\"\n",
        "        current_seq_lines = []\n",
        "\n",
        "        for line in infile:\n",
        "            if line.startswith(\">\"):\n",
        "                # Save previous matching sequence\n",
        "                if write_seq and current_header:\n",
        "                    outfile.write(current_header)\n",
        "                    outfile.writelines(current_seq_lines)\n",
        "\n",
        "                current_header = line\n",
        "                seq_id = line.split()[0][1:]  # remove \">\" and extract ID\n",
        "                write_seq = seq_id in id_list\n",
        "                current_seq_lines = []\n",
        "            else:\n",
        "                if write_seq:\n",
        "                    current_seq_lines.append(line)\n",
        "\n",
        "        # Save the last sequence if it matched\n",
        "        if write_seq and current_header:\n",
        "            outfile.write(current_header)\n",
        "            outfile.writelines(current_seq_lines)\n",
        "\n",
        "    print(f\"✅ Extraction complete. Saved to: {fasta_output}\")\n"
      ],
      "metadata": {
        "id": "N1hgpnYZslVe"
      },
      "execution_count": 11,
      "outputs": []
    }
  ]
}