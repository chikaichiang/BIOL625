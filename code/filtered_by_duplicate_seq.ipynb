{
 "cells": [
  {
   "cell_type": "code",
   "execution_count": 194,
   "metadata": {
    "colab": {
     "base_uri": "https://localhost:8080/"
    },
    "executionInfo": {
     "elapsed": 6877,
     "status": "ok",
     "timestamp": 1748586609667,
     "user": {
      "displayName": "Chikai Chiang",
      "userId": "11358177289674085250"
     },
     "user_tz": 240
    },
    "id": "G4GIS54PkRTM",
    "outputId": "db11eb01-1e52-4727-e48a-7accd6dec9b3"
   },
   "outputs": [
    {
     "name": "stdout",
     "output_type": "stream",
     "text": [
      "Requirement already satisfied: biopython in /usr/local/lib/python3.11/dist-packages (1.85)\n",
      "Requirement already satisfied: numpy in /usr/local/lib/python3.11/dist-packages (from biopython) (2.0.2)\n"
     ]
    }
   ],
   "source": [
    "# Install Biopython\n",
    "!pip install biopython\n",
    "\n",
    "# Import required libraries\n",
    "from Bio import SeqIO\n",
    "from google.colab import files\n",
    "\n",
    "# Define function for removing duplicate sequnces for combined .faa\n",
    "def remove_duplicate_sequences(faa_file):\n",
    "    \"\"\"\n",
    "    remove_duplicate_sequences(faa_file)\n",
    "\n",
    "    Removes duplicate protein sequences from a multi-FASTA (.faa) file by grouping sequences by their organism annotation.\n",
    "    For each species, only unique amino acid sequences are retained, and duplicates are removed based on exact sequence matches.\n",
    "    The cleaned sequences are saved as a new FASTA file (\"cleaned_\" + faa_file), and a report is printed detailing:\n",
    "    - The original number of sequences\n",
    "    - The number of duplicate sequences removed\n",
    "    - The number of unique sequences remaining\n",
    "\n",
    "    Parameters:\n",
    "    - faa_file (str): Path to the input FASTA (.faa) file containing protein sequences.\n",
    "\n",
    "    Outputs:\n",
    "    - A cleaned FASTA file with unique sequences per organism.\n",
    "    - A printout summary of the processing.\n",
    "    - Automatically triggers file download (for Colab workflows).\n",
    "\n",
    "    Example:\n",
    "    >>> remove_duplicate_sequences(\"combined_proteins.faa\")\n",
    "    \"\"\"\n",
    "\n",
    "    # Read sequences\n",
    "    records = list(SeqIO.parse(faa_file, \"fasta\"))\n",
    "\n",
    "    # Group sequences by organism\n",
    "    species_dict = {}\n",
    "    for record in records:\n",
    "        description = record.description\n",
    "        if '[organism=' in description:\n",
    "            organism = description.split('[organism=')[1].split(']')[0].strip()\n",
    "        else:\n",
    "            organism = 'Unknown'\n",
    "        species_dict.setdefault(organism, []).append(record)\n",
    "\n",
    "    # Remove duplicates within each species\n",
    "    unique_sequences = []\n",
    "    duplicate_sequences = []\n",
    "\n",
    "    for species, recs in species_dict.items():\n",
    "        seen = set()\n",
    "        for rec in recs:\n",
    "            seq_str = str(rec.seq)\n",
    "            if seq_str not in seen:\n",
    "                seen.add(seq_str)\n",
    "                unique_sequences.append(rec)\n",
    "            else:\n",
    "                duplicate_sequences.append(rec)\n",
    "\n",
    "     # Save cleaned file\n",
    "    cleaned_file = \"cleaned_\" + faa_file\n",
    "    SeqIO.write(unique_sequences, cleaned_file, \"fasta\")\n",
    "\n",
    "    # Report\n",
    "    print(f\"Original file had {len(records)} sequences.\")\n",
    "    print(f\"Removed {len(duplicate_sequences)} duplicate sequences.\")\n",
    "    print(f\"Cleaned file saved as: {cleaned_file}\")\n",
    "\n",
    "    cleaned_count = len(records) - len(duplicate_sequences)\n",
    "    print(cleaned_count)\n",
    "\n",
    "\n",
    "    # Trigger download\n",
    "    files.download(cleaned_file)\n",
    "\n",
    "\n",
    "\n"
   ]
  }
 ],
 "metadata": {
  "colab": {
   "authorship_tag": "ABX9TyNFCYKmr4Fjd5duMRoIBQ9X",
   "provenance": []
  },
  "kernelspec": {
   "display_name": "Python 3",
   "name": "python3"
  },
  "language_info": {
   "name": "python"
  }
 },
 "nbformat": 4,
 "nbformat_minor": 0
}
