{
  "nbformat": 4,
  "nbformat_minor": 0,
  "metadata": {
    "colab": {
      "provenance": []
    },
    "kernelspec": {
      "name": "python3",
      "display_name": "Python 3"
    },
    "language_info": {
      "name": "python"
    }
  },
  "cells": [
    {
      "cell_type": "code",
      "source": [
        "!pip install fair-esm\n",
        "import torch\n",
        "import esm\n",
        "import pandas as pd\n",
        "from tqdm import tqdm\n",
        "from google.colab import files"
      ],
      "metadata": {
        "colab": {
          "base_uri": "https://localhost:8080/"
        },
        "id": "gbRStkPvwTS4",
        "outputId": "6c905097-2636-4eaf-eb78-6620f1a50405"
      },
      "execution_count": null,
      "outputs": [
        {
          "output_type": "stream",
          "name": "stdout",
          "text": [
            "Collecting fair-esm\n",
            "  Downloading fair_esm-2.0.0-py3-none-any.whl.metadata (37 kB)\n",
            "Downloading fair_esm-2.0.0-py3-none-any.whl (93 kB)\n",
            "\u001b[2K   \u001b[90m━━━━━━━━━━━━━━━━━━━━━━━━━━━━━━━━━━━━━━━━\u001b[0m \u001b[32m93.1/93.1 kB\u001b[0m \u001b[31m3.2 MB/s\u001b[0m eta \u001b[36m0:00:00\u001b[0m\n",
            "\u001b[?25hInstalling collected packages: fair-esm\n",
            "Successfully installed fair-esm-2.0.0\n"
          ]
        }
      ]
    },
    {
      "cell_type": "code",
      "source": [
        "# Load smaller ESM-2 model that will work better on CPU\n",
        "model, alphabet = esm.pretrained.esm2_t30_150M_UR50D()\n",
        "batch_converter = alphabet.get_batch_converter()\n",
        "model.eval()  # Keep on CPU"
      ],
      "metadata": {
        "colab": {
          "base_uri": "https://localhost:8080/"
        },
        "id": "JT73NZzzwW7c",
        "outputId": "edfa14b0-3be8-4dde-c95b-dc2fed021535"
      },
      "execution_count": null,
      "outputs": [
        {
          "output_type": "stream",
          "name": "stderr",
          "text": [
            "Downloading: \"https://dl.fbaipublicfiles.com/fair-esm/models/esm2_t30_150M_UR50D.pt\" to /root/.cache/torch/hub/checkpoints/esm2_t30_150M_UR50D.pt\n",
            "Downloading: \"https://dl.fbaipublicfiles.com/fair-esm/regression/esm2_t30_150M_UR50D-contact-regression.pt\" to /root/.cache/torch/hub/checkpoints/esm2_t30_150M_UR50D-contact-regression.pt\n"
          ]
        },
        {
          "output_type": "execute_result",
          "data": {
            "text/plain": [
              "ESM2(\n",
              "  (embed_tokens): Embedding(33, 640, padding_idx=1)\n",
              "  (layers): ModuleList(\n",
              "    (0-29): 30 x TransformerLayer(\n",
              "      (self_attn): MultiheadAttention(\n",
              "        (k_proj): Linear(in_features=640, out_features=640, bias=True)\n",
              "        (v_proj): Linear(in_features=640, out_features=640, bias=True)\n",
              "        (q_proj): Linear(in_features=640, out_features=640, bias=True)\n",
              "        (out_proj): Linear(in_features=640, out_features=640, bias=True)\n",
              "        (rot_emb): RotaryEmbedding()\n",
              "      )\n",
              "      (self_attn_layer_norm): LayerNorm((640,), eps=1e-05, elementwise_affine=True)\n",
              "      (fc1): Linear(in_features=640, out_features=2560, bias=True)\n",
              "      (fc2): Linear(in_features=2560, out_features=640, bias=True)\n",
              "      (final_layer_norm): LayerNorm((640,), eps=1e-05, elementwise_affine=True)\n",
              "    )\n",
              "  )\n",
              "  (contact_head): ContactPredictionHead(\n",
              "    (regression): Linear(in_features=600, out_features=1, bias=True)\n",
              "    (activation): Sigmoid()\n",
              "  )\n",
              "  (emb_layer_norm_after): LayerNorm((640,), eps=1e-05, elementwise_affine=True)\n",
              "  (lm_head): RobertaLMHead(\n",
              "    (dense): Linear(in_features=640, out_features=640, bias=True)\n",
              "    (layer_norm): LayerNorm((640,), eps=1e-05, elementwise_affine=True)\n",
              "  )\n",
              ")"
            ]
          },
          "metadata": {},
          "execution_count": 2
        }
      ]
    },
    {
      "cell_type": "code",
      "source": [
        "# Get the number of layers in the model\n",
        "num_layers = len(model.layers)\n",
        "print(f\"Model has {num_layers} layers, using layer {num_layers} for embeddings\")"
      ],
      "metadata": {
        "colab": {
          "base_uri": "https://localhost:8080/"
        },
        "id": "aqG516g1gqj9",
        "outputId": "0ff93998-aaa3-4a51-a78f-49d134c56305"
      },
      "execution_count": null,
      "outputs": [
        {
          "output_type": "stream",
          "name": "stdout",
          "text": [
            "Model has 30 layers, using layer 30 for embeddings\n"
          ]
        }
      ]
    },
    {
      "cell_type": "code",
      "source": [
        "def read_and_process_in_batches(file_path, batch_size=2):  # Small batch size for CPU\n",
        "\n",
        "    \"\"\"\n",
        "    Reads a FASTA file, processes sequences in batches using a protein language model\n",
        "    (e.g., ESM), and returns sequence IDs and their corresponding [CLS] embeddings.\n",
        "\n",
        "    This function is designed for efficient processing of large protein sequence files,\n",
        "    handling batches on CPU (or GPU if enabled), and gracefully skipping problematic sequences.\n",
        "\n",
        "    Workflow:\n",
        "    1. Reads sequences from a FASTA file.\n",
        "    2. Splits sequences into batches of specified size.\n",
        "    3. For each batch:\n",
        "       - Uses a pre-trained model (e.g., ESM) to extract embeddings.\n",
        "       - Retrieves the [CLS] token embedding (typically at position 0).\n",
        "    4. Collects and returns embeddings and corresponding sequence IDs.\n",
        "\n",
        "    Parameters:\n",
        "    - file_path (str): Path to the input FASTA file.\n",
        "    - batch_size (int): Number of sequences per batch (default: 2 for CPU compatibility).\n",
        "\n",
        "    Returns:\n",
        "    - seq_ids (list of str): List of sequence IDs (FASTA headers) corresponding to the embeddings.\n",
        "    - cls_embeddings (list of np.ndarray): List of [CLS] embeddings for each sequence.\n",
        "    \"\"\"\n",
        "\n",
        "    # Read sequences\n",
        "    sequences = []\n",
        "    with open(file_path, 'r') as f:\n",
        "        seq_id = \"\"\n",
        "        seq = \"\"\n",
        "        for line in f:\n",
        "            if line.startswith(\">\"):\n",
        "                if seq_id:\n",
        "                    sequences.append((seq_id, seq))\n",
        "                seq_id = line.strip()\n",
        "                seq = \"\"\n",
        "            else:\n",
        "                seq += line.strip()\n",
        "        if seq_id:\n",
        "            sequences.append((seq_id, seq))\n",
        "\n",
        "    # Process in batches\n",
        "    cls_embeddings = []\n",
        "    seq_ids = []\n",
        "\n",
        "    for i in tqdm(range(0, len(sequences), batch_size)):\n",
        "        batch = sequences[i:i+batch_size]\n",
        "        try:\n",
        "            batch_labels, batch_strs, batch_tokens = batch_converter(batch)\n",
        "\n",
        "            with torch.no_grad():\n",
        "                results = model(batch_tokens, repr_layers=[num_layers], return_contacts=False)\n",
        "                token_embeddings = results[\"representations\"][num_layers]\n",
        "\n",
        "            cls_embeddings.extend(token_embeddings[:, 0, :].numpy())\n",
        "            seq_ids.extend([seq_id for seq_id, seq in batch])\n",
        "        except Exception as e:\n",
        "            print(f\"Error processing batch {i//batch_size}: {str(e)}\")\n",
        "            continue\n",
        "\n",
        "    return seq_ids, cls_embeddings\n"
      ],
      "metadata": {
        "id": "Y65pXGBOxGX2"
      },
      "execution_count": null,
      "outputs": []
    },
    {
      "cell_type": "code",
      "source": [
        "# =========================================================\n",
        "# Example: Compute ESM-2 CLS embeddings for cleaned DMC1 of arthropods\n",
        "#\n",
        "# 1️⃣ Upload the .faa file containing cleaned DMC1 protein sequences:\n",
        "#    (Example filename: \"cleaned_DMC1_A.faa\")\n",
        "# from google.colab import files\n",
        "# uploaded = files.upload()\n",
        "#\n",
        "# 2️⃣ Process sequences in batches and compute embeddings:\n",
        "#     seq_ids, cls_embeddings = read_and_process_in_batches(\"cleaned_DMC1_A.faa\")\n",
        "#\n",
        "# 3️⃣ Convert results into a DataFrame and save as CSV:\n",
        "#     df = pd.DataFrame(cls_embeddings, index=seq_ids)\n",
        "#     df.to_csv(\"cleaned_DMC1_A_CLS_embeddings.csv\")\n",
        "#\n",
        "# 4️⃣ Download the final CLS embeddings CSV file:\n",
        "#     files.download(\"cleaned_DMC1_A_CLS_embeddings.csv\")\n",
        "# ========================================================="
      ],
      "metadata": {
        "colab": {
          "base_uri": "https://localhost:8080/",
          "height": 92
        },
        "id": "IjptiaahxPeK",
        "outputId": "76762867-7c77-4cbb-c44a-6415c9d1d7de"
      },
      "execution_count": null,
      "outputs": [
        {
          "output_type": "display_data",
          "data": {
            "text/plain": [
              "<IPython.core.display.HTML object>"
            ],
            "text/html": [
              "\n",
              "     <input type=\"file\" id=\"files-ec130fea-5fe7-4e39-a515-76be76948f55\" name=\"files[]\" multiple disabled\n",
              "        style=\"border:none\" />\n",
              "     <output id=\"result-ec130fea-5fe7-4e39-a515-76be76948f55\">\n",
              "      Upload widget is only available when the cell has been executed in the\n",
              "      current browser session. Please rerun this cell to enable.\n",
              "      </output>\n",
              "      <script>// Copyright 2017 Google LLC\n",
              "//\n",
              "// Licensed under the Apache License, Version 2.0 (the \"License\");\n",
              "// you may not use this file except in compliance with the License.\n",
              "// You may obtain a copy of the License at\n",
              "//\n",
              "//      http://www.apache.org/licenses/LICENSE-2.0\n",
              "//\n",
              "// Unless required by applicable law or agreed to in writing, software\n",
              "// distributed under the License is distributed on an \"AS IS\" BASIS,\n",
              "// WITHOUT WARRANTIES OR CONDITIONS OF ANY KIND, either express or implied.\n",
              "// See the License for the specific language governing permissions and\n",
              "// limitations under the License.\n",
              "\n",
              "/**\n",
              " * @fileoverview Helpers for google.colab Python module.\n",
              " */\n",
              "(function(scope) {\n",
              "function span(text, styleAttributes = {}) {\n",
              "  const element = document.createElement('span');\n",
              "  element.textContent = text;\n",
              "  for (const key of Object.keys(styleAttributes)) {\n",
              "    element.style[key] = styleAttributes[key];\n",
              "  }\n",
              "  return element;\n",
              "}\n",
              "\n",
              "// Max number of bytes which will be uploaded at a time.\n",
              "const MAX_PAYLOAD_SIZE = 100 * 1024;\n",
              "\n",
              "function _uploadFiles(inputId, outputId) {\n",
              "  const steps = uploadFilesStep(inputId, outputId);\n",
              "  const outputElement = document.getElementById(outputId);\n",
              "  // Cache steps on the outputElement to make it available for the next call\n",
              "  // to uploadFilesContinue from Python.\n",
              "  outputElement.steps = steps;\n",
              "\n",
              "  return _uploadFilesContinue(outputId);\n",
              "}\n",
              "\n",
              "// This is roughly an async generator (not supported in the browser yet),\n",
              "// where there are multiple asynchronous steps and the Python side is going\n",
              "// to poll for completion of each step.\n",
              "// This uses a Promise to block the python side on completion of each step,\n",
              "// then passes the result of the previous step as the input to the next step.\n",
              "function _uploadFilesContinue(outputId) {\n",
              "  const outputElement = document.getElementById(outputId);\n",
              "  const steps = outputElement.steps;\n",
              "\n",
              "  const next = steps.next(outputElement.lastPromiseValue);\n",
              "  return Promise.resolve(next.value.promise).then((value) => {\n",
              "    // Cache the last promise value to make it available to the next\n",
              "    // step of the generator.\n",
              "    outputElement.lastPromiseValue = value;\n",
              "    return next.value.response;\n",
              "  });\n",
              "}\n",
              "\n",
              "/**\n",
              " * Generator function which is called between each async step of the upload\n",
              " * process.\n",
              " * @param {string} inputId Element ID of the input file picker element.\n",
              " * @param {string} outputId Element ID of the output display.\n",
              " * @return {!Iterable<!Object>} Iterable of next steps.\n",
              " */\n",
              "function* uploadFilesStep(inputId, outputId) {\n",
              "  const inputElement = document.getElementById(inputId);\n",
              "  inputElement.disabled = false;\n",
              "\n",
              "  const outputElement = document.getElementById(outputId);\n",
              "  outputElement.innerHTML = '';\n",
              "\n",
              "  const pickedPromise = new Promise((resolve) => {\n",
              "    inputElement.addEventListener('change', (e) => {\n",
              "      resolve(e.target.files);\n",
              "    });\n",
              "  });\n",
              "\n",
              "  const cancel = document.createElement('button');\n",
              "  inputElement.parentElement.appendChild(cancel);\n",
              "  cancel.textContent = 'Cancel upload';\n",
              "  const cancelPromise = new Promise((resolve) => {\n",
              "    cancel.onclick = () => {\n",
              "      resolve(null);\n",
              "    };\n",
              "  });\n",
              "\n",
              "  // Wait for the user to pick the files.\n",
              "  const files = yield {\n",
              "    promise: Promise.race([pickedPromise, cancelPromise]),\n",
              "    response: {\n",
              "      action: 'starting',\n",
              "    }\n",
              "  };\n",
              "\n",
              "  cancel.remove();\n",
              "\n",
              "  // Disable the input element since further picks are not allowed.\n",
              "  inputElement.disabled = true;\n",
              "\n",
              "  if (!files) {\n",
              "    return {\n",
              "      response: {\n",
              "        action: 'complete',\n",
              "      }\n",
              "    };\n",
              "  }\n",
              "\n",
              "  for (const file of files) {\n",
              "    const li = document.createElement('li');\n",
              "    li.append(span(file.name, {fontWeight: 'bold'}));\n",
              "    li.append(span(\n",
              "        `(${file.type || 'n/a'}) - ${file.size} bytes, ` +\n",
              "        `last modified: ${\n",
              "            file.lastModifiedDate ? file.lastModifiedDate.toLocaleDateString() :\n",
              "                                    'n/a'} - `));\n",
              "    const percent = span('0% done');\n",
              "    li.appendChild(percent);\n",
              "\n",
              "    outputElement.appendChild(li);\n",
              "\n",
              "    const fileDataPromise = new Promise((resolve) => {\n",
              "      const reader = new FileReader();\n",
              "      reader.onload = (e) => {\n",
              "        resolve(e.target.result);\n",
              "      };\n",
              "      reader.readAsArrayBuffer(file);\n",
              "    });\n",
              "    // Wait for the data to be ready.\n",
              "    let fileData = yield {\n",
              "      promise: fileDataPromise,\n",
              "      response: {\n",
              "        action: 'continue',\n",
              "      }\n",
              "    };\n",
              "\n",
              "    // Use a chunked sending to avoid message size limits. See b/62115660.\n",
              "    let position = 0;\n",
              "    do {\n",
              "      const length = Math.min(fileData.byteLength - position, MAX_PAYLOAD_SIZE);\n",
              "      const chunk = new Uint8Array(fileData, position, length);\n",
              "      position += length;\n",
              "\n",
              "      const base64 = btoa(String.fromCharCode.apply(null, chunk));\n",
              "      yield {\n",
              "        response: {\n",
              "          action: 'append',\n",
              "          file: file.name,\n",
              "          data: base64,\n",
              "        },\n",
              "      };\n",
              "\n",
              "      let percentDone = fileData.byteLength === 0 ?\n",
              "          100 :\n",
              "          Math.round((position / fileData.byteLength) * 100);\n",
              "      percent.textContent = `${percentDone}% done`;\n",
              "\n",
              "    } while (position < fileData.byteLength);\n",
              "  }\n",
              "\n",
              "  // All done.\n",
              "  yield {\n",
              "    response: {\n",
              "      action: 'complete',\n",
              "    }\n",
              "  };\n",
              "}\n",
              "\n",
              "scope.google = scope.google || {};\n",
              "scope.google.colab = scope.google.colab || {};\n",
              "scope.google.colab._files = {\n",
              "  _uploadFiles,\n",
              "  _uploadFilesContinue,\n",
              "};\n",
              "})(self);\n",
              "</script> "
            ]
          },
          "metadata": {}
        },
        {
          "output_type": "stream",
          "name": "stdout",
          "text": [
            "Saving cleaned_DMC1_A.faa to cleaned_DMC1_A.faa\n"
          ]
        },
        {
          "output_type": "stream",
          "name": "stderr",
          "text": [
            "100%|██████████| 61/61 [05:05<00:00,  5.01s/it]\n"
          ]
        },
        {
          "output_type": "display_data",
          "data": {
            "text/plain": [
              "<IPython.core.display.Javascript object>"
            ],
            "application/javascript": [
              "\n",
              "    async function download(id, filename, size) {\n",
              "      if (!google.colab.kernel.accessAllowed) {\n",
              "        return;\n",
              "      }\n",
              "      const div = document.createElement('div');\n",
              "      const label = document.createElement('label');\n",
              "      label.textContent = `Downloading \"${filename}\": `;\n",
              "      div.appendChild(label);\n",
              "      const progress = document.createElement('progress');\n",
              "      progress.max = size;\n",
              "      div.appendChild(progress);\n",
              "      document.body.appendChild(div);\n",
              "\n",
              "      const buffers = [];\n",
              "      let downloaded = 0;\n",
              "\n",
              "      const channel = await google.colab.kernel.comms.open(id);\n",
              "      // Send a message to notify the kernel that we're ready.\n",
              "      channel.send({})\n",
              "\n",
              "      for await (const message of channel.messages) {\n",
              "        // Send a message to notify the kernel that we're ready.\n",
              "        channel.send({})\n",
              "        if (message.buffers) {\n",
              "          for (const buffer of message.buffers) {\n",
              "            buffers.push(buffer);\n",
              "            downloaded += buffer.byteLength;\n",
              "            progress.value = downloaded;\n",
              "          }\n",
              "        }\n",
              "      }\n",
              "      const blob = new Blob(buffers, {type: 'application/binary'});\n",
              "      const a = document.createElement('a');\n",
              "      a.href = window.URL.createObjectURL(blob);\n",
              "      a.download = filename;\n",
              "      div.appendChild(a);\n",
              "      a.click();\n",
              "      div.remove();\n",
              "    }\n",
              "  "
            ]
          },
          "metadata": {}
        },
        {
          "output_type": "display_data",
          "data": {
            "text/plain": [
              "<IPython.core.display.Javascript object>"
            ],
            "application/javascript": [
              "download(\"download_07989292-5b01-4f04-9eab-d7913b0680e4\", \"cleaned_DMC1_A_CLS_embeddings.csv\", 919001)"
            ]
          },
          "metadata": {}
        }
      ]
    }
  ]
}